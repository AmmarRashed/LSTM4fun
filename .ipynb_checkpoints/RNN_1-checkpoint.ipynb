{
 "cells": [
  {
   "cell_type": "code",
   "execution_count": 1,
   "metadata": {},
   "outputs": [],
   "source": [
    "from __future__ import absolute_import, print_function, division"
   ]
  },
  {
   "cell_type": "code",
   "execution_count": 2,
   "metadata": {},
   "outputs": [],
   "source": [
    "import time"
   ]
  },
  {
   "cell_type": "code",
   "execution_count": 3,
   "metadata": {},
   "outputs": [
    {
     "name": "stderr",
     "output_type": "stream",
     "text": [
      "/usr/local/lib/python3.5/dist-packages/h5py/__init__.py:36: FutureWarning: Conversion of the second argument of issubdtype from `float` to `np.floating` is deprecated. In future, it will be treated as `np.float64 == np.dtype(float).type`.\n",
      "  from ._conv import register_converters as _register_converters\n"
     ]
    }
   ],
   "source": [
    "import numpy as np\n",
    "import pandas as pd\n",
    "\n",
    "import tensorflow as tf"
   ]
  },
  {
   "cell_type": "code",
   "execution_count": 4,
   "metadata": {},
   "outputs": [],
   "source": [
    "from matplotlib import pyplot as plt\n",
    "%matplotlib inline"
   ]
  },
  {
   "cell_type": "code",
   "execution_count": 5,
   "metadata": {},
   "outputs": [],
   "source": [
    "def reset_graph(seed=42):\n",
    "    tf.reset_default_graph()\n",
    "    tf.set_random_seed(seed)\n",
    "    np.random.seed(seed)"
   ]
  },
  {
   "cell_type": "code",
   "execution_count": 6,
   "metadata": {},
   "outputs": [],
   "source": [
    "n_inputs = 3\n",
    "n_neurons = 5"
   ]
  },
  {
   "cell_type": "markdown",
   "metadata": {},
   "source": [
    "### Raw RNN"
   ]
  },
  {
   "cell_type": "code",
   "execution_count": 7,
   "metadata": {},
   "outputs": [],
   "source": [
    "graph = tf.Graph()\n",
    "\n",
    "with graph.as_default():\n",
    "    x0 = tf.placeholder(tf.float32, [None, n_inputs])\n",
    "    x1 = tf.placeholder(tf.float32, [None, n_inputs])\n",
    "    \n",
    "    Wx = tf.Variable(tf.random_normal(shape=[n_inputs, n_neurons], dtype=tf.float32))\n",
    "    Wy = tf.Variable(tf.random_normal(shape=[n_neurons, n_neurons], dtype=tf.float32))\n",
    "    b = tf.Variable(tf.zeros(shape=[1, n_neurons], dtype=tf.float32))\n",
    "    \n",
    "    Y0 = tf.tanh(tf.matmul(x0, Wx) + b)\n",
    "    Y1 = tf.tanh(tf.matmul(Y0, Wy) + tf.matmul(x1, Wx) +b)\n",
    "    \n",
    "    init = tf.global_variables_initializer()"
   ]
  },
  {
   "cell_type": "code",
   "execution_count": 8,
   "metadata": {},
   "outputs": [],
   "source": [
    "x0_batch = np.array([[0, 1, 2], [3, 4, 5], [6, 7, 8], [9, 0, 1]]) # t0\n",
    "x1_batch = np.array([[9, 8, 7], [0, 0, 0], [6, 5, 4], [3, 2, 1]]) # t1"
   ]
  },
  {
   "cell_type": "code",
   "execution_count": 9,
   "metadata": {},
   "outputs": [],
   "source": [
    "def run_session(graph):\n",
    "    with tf.Session(graph=graph) as sess, tf.device(\"/cpu\"):\n",
    "        init.run()\n",
    "        feed_dict = {x0:x0_batch, x1:x1_batch}\n",
    "        Y0_val, Y1_val = sess.run([Y0, Y1], feed_dict)\n",
    "    return Y0_val, Y1_val"
   ]
  },
  {
   "cell_type": "code",
   "execution_count": 10,
   "metadata": {},
   "outputs": [
    {
     "data": {
      "text/plain": [
       "((4, 5), (4, 5))"
      ]
     },
     "execution_count": 10,
     "metadata": {},
     "output_type": "execute_result"
    }
   ],
   "source": [
    "Y0_val, Y1_val = run_session(graph)\n",
    "Y0_val.shape, Y1_val.shape"
   ]
  },
  {
   "cell_type": "code",
   "execution_count": 11,
   "metadata": {},
   "outputs": [
    {
     "name": "stdout",
     "output_type": "stream",
     "text": [
      "[[-0.99817836  0.719404   -0.9883175  -0.99998057 -0.93254703]\n",
      " [-1.         -0.8638124  -0.9999934  -1.         -1.        ]\n",
      " [-1.         -0.9982589  -1.         -1.         -1.        ]\n",
      " [-0.99992806 -1.         -0.9999998  -0.99999183 -0.9999998 ]]\n"
     ]
    }
   ],
   "source": [
    "print(Y0_val)"
   ]
  },
  {
   "cell_type": "code",
   "execution_count": 12,
   "metadata": {},
   "outputs": [
    {
     "name": "stdout",
     "output_type": "stream",
     "text": [
      "[[-1.         -0.910267   -0.999994   -1.         -1.        ]\n",
      " [ 0.82907933  0.99990547  0.9164425  -0.99744195 -0.9877347 ]\n",
      " [-1.         -0.4211315  -0.9978734  -1.         -1.        ]\n",
      " [-0.99905765  0.9429683   0.30880088 -1.         -0.99999994]]\n"
     ]
    }
   ],
   "source": [
    "print(Y1_val)"
   ]
  },
  {
   "cell_type": "markdown",
   "metadata": {},
   "source": [
    "### TensorFlow RNN API: BasicRNNCell"
   ]
  },
  {
   "cell_type": "code",
   "execution_count": 13,
   "metadata": {},
   "outputs": [],
   "source": [
    "graph = tf.Graph()\n",
    "\n",
    "with graph.as_default():\n",
    "    x0 = tf.placeholder(tf.float32, [None, n_inputs])\n",
    "    x1 = tf.placeholder(tf.float32, [None, n_inputs])\n",
    "    \n",
    "    basic_cell = tf.contrib.rnn.BasicRNNCell(num_units=n_neurons)\n",
    "    output_seqs, states = tf.contrib.rnn.static_rnn(basic_cell, [x0, x1], dtype=tf.float32)\n",
    "    \n",
    "    Y0, Y1 = output_seqs\n",
    "    \n",
    "    init = tf.global_variables_initializer()"
   ]
  },
  {
   "cell_type": "code",
   "execution_count": 14,
   "metadata": {},
   "outputs": [
    {
     "data": {
      "text/plain": [
       "((4, 5), (4, 5))"
      ]
     },
     "execution_count": 14,
     "metadata": {},
     "output_type": "execute_result"
    }
   ],
   "source": [
    "Y0_val, Y1_val = run_session(graph)\n",
    "Y0_val.shape, Y1_val.shape"
   ]
  },
  {
   "cell_type": "code",
   "execution_count": 15,
   "metadata": {},
   "outputs": [
    {
     "name": "stdout",
     "output_type": "stream",
     "text": [
      "[[-0.6879705  -0.00416962  0.24728353 -0.6264513   0.25467247]\n",
      " [-0.99767774 -0.4593892  -0.5574772  -0.9827965   0.43505943]\n",
      " [-0.9999854  -0.7568946  -0.90708935 -0.99934465  0.5861875 ]\n",
      " [-0.99943066 -0.61869943 -0.9999905  -0.99767137 -0.99395585]]\n"
     ]
    }
   ],
   "source": [
    "print(Y0_val)"
   ]
  },
  {
   "cell_type": "code",
   "execution_count": 16,
   "metadata": {},
   "outputs": [
    {
     "name": "stdout",
     "output_type": "stream",
     "text": [
      "[[-0.99999815 -0.8432373  -0.9941329  -0.999663   -0.21146949]\n",
      " [-0.16198307  0.7903367   0.10236325 -0.09418704 -0.53683484]\n",
      " [-0.9996662   0.40983346 -0.94762903 -0.98872644 -0.33871898]\n",
      " [-0.91624403  0.5062023  -0.9110845  -0.84001344 -0.14822783]]\n"
     ]
    }
   ],
   "source": [
    "print(Y1_val)"
   ]
  },
  {
   "cell_type": "markdown",
   "metadata": {},
   "source": [
    "### Unstacking timesteps + stacking output sequence"
   ]
  },
  {
   "cell_type": "code",
   "execution_count": 17,
   "metadata": {},
   "outputs": [],
   "source": [
    "graph = tf.Graph()\n",
    "n_steps = 2\n",
    "with graph.as_default():\n",
    "    X = tf.placeholder(tf.float32, shape=[None, n_steps, n_inputs])\n",
    "    X_seqs = tf.unstack(tf.transpose(X, [1, 0, 2]))\n",
    "    \n",
    "    basic_cell = tf.contrib.rnn.BasicRNNCell(num_units=n_neurons)\n",
    "    output_seqs, states = tf.contrib.rnn.static_rnn(basic_cell, X_seqs, dtype=tf.float32)\n",
    "    \n",
    "    outputs = tf.stack(tf.transpose(output_seqs, perm=[1, 0, 2]))"
   ]
  },
  {
   "cell_type": "code",
   "execution_count": 18,
   "metadata": {},
   "outputs": [],
   "source": [
    "X_batch = np.array([\n",
    "        # t = 0      t = 1 \n",
    "        [[0, 1, 2], [9, 8, 7]], # instance 1\n",
    "        [[3, 4, 5], [0, 0, 0]], # instance 2\n",
    "        [[6, 7, 8], [6, 5, 4]], # instance 3\n",
    "        [[9, 0, 1], [3, 2, 1]], # instance 4\n",
    "    ])"
   ]
  },
  {
   "cell_type": "code",
   "execution_count": 19,
   "metadata": {},
   "outputs": [
    {
     "name": "stdout",
     "output_type": "stream",
     "text": [
      "(4, 2, 3)\n",
      "4 instances, 2 time steps, input size of 3\n"
     ]
    }
   ],
   "source": [
    "print(X_batch.shape)\n",
    "a,b,c = X_batch.shape\n",
    "print(\"{0} instances, {1} time steps, input size of {2}\".format(a,b,c))"
   ]
  },
  {
   "cell_type": "code",
   "execution_count": 20,
   "metadata": {},
   "outputs": [],
   "source": [
    "def run_session(graph, sequence_length=None):\n",
    "    with tf.Session(graph=graph) as sess:\n",
    "        sess.run(tf.global_variables_initializer())\n",
    "        feed_dict = {X:X_batch}\n",
    "        if sequence_length is not None:\n",
    "            feed_dict.update({seq_length:sequence_length})\n",
    "        output_vals, states_vals = sess.run([outputs, states],feed_dict)\n",
    "        \n",
    "    a,b,c = np.array(output_vals).shape\n",
    "    print((a,b,c))\n",
    "    print(\"{0} instances, {1} time steps, input size of {2}\".format(a,b,c))\n",
    "    ds = [[str(timestep) for timestep in instance] for instance in output_vals]\n",
    "    \n",
    "    return pd.DataFrame(ds, columns=[\"t0\",\"t1\"], index=['x%d'%i for i in range(len(output_vals))])"
   ]
  },
  {
   "cell_type": "code",
   "execution_count": 21,
   "metadata": {},
   "outputs": [
    {
     "name": "stdout",
     "output_type": "stream",
     "text": [
      "(4, 2, 5)\n",
      "4 instances, 2 time steps, input size of 5\n"
     ]
    },
    {
     "data": {
      "text/html": [
       "<div>\n",
       "<style scoped>\n",
       "    .dataframe tbody tr th:only-of-type {\n",
       "        vertical-align: middle;\n",
       "    }\n",
       "\n",
       "    .dataframe tbody tr th {\n",
       "        vertical-align: top;\n",
       "    }\n",
       "\n",
       "    .dataframe thead th {\n",
       "        text-align: right;\n",
       "    }\n",
       "</style>\n",
       "<table border=\"1\" class=\"dataframe\">\n",
       "  <thead>\n",
       "    <tr style=\"text-align: right;\">\n",
       "      <th></th>\n",
       "      <th>t0</th>\n",
       "      <th>t1</th>\n",
       "    </tr>\n",
       "  </thead>\n",
       "  <tbody>\n",
       "    <tr>\n",
       "      <th>x0</th>\n",
       "      <td>[ 0.68782574 -0.0801341   0.6517261  -0.713531...</td>\n",
       "      <td>[ 0.99997616  0.8504254  -0.8798242   0.978973...</td>\n",
       "    </tr>\n",
       "    <tr>\n",
       "      <th>x1</th>\n",
       "      <td>[ 0.9971099   0.38729978  0.5669896  -0.335583...</td>\n",
       "      <td>[-0.3122733  -0.5807401  -0.4325646  -0.134347...</td>\n",
       "    </tr>\n",
       "    <tr>\n",
       "      <th>x2</th>\n",
       "      <td>[0.99997735 0.7151004  0.46827328 0.19364893 0...</td>\n",
       "      <td>[ 0.99947363  0.2796748  -0.9383082   0.966149...</td>\n",
       "    </tr>\n",
       "    <tr>\n",
       "      <th>x3</th>\n",
       "      <td>[ 0.5596955  0.2543043 -0.9944152  0.9983812  ...</td>\n",
       "      <td>[ 0.97858137 -0.62593997 -0.9628224   0.768452...</td>\n",
       "    </tr>\n",
       "  </tbody>\n",
       "</table>\n",
       "</div>"
      ],
      "text/plain": [
       "                                                   t0  \\\n",
       "x0  [ 0.68782574 -0.0801341   0.6517261  -0.713531...   \n",
       "x1  [ 0.9971099   0.38729978  0.5669896  -0.335583...   \n",
       "x2  [0.99997735 0.7151004  0.46827328 0.19364893 0...   \n",
       "x3  [ 0.5596955  0.2543043 -0.9944152  0.9983812  ...   \n",
       "\n",
       "                                                   t1  \n",
       "x0  [ 0.99997616  0.8504254  -0.8798242   0.978973...  \n",
       "x1  [-0.3122733  -0.5807401  -0.4325646  -0.134347...  \n",
       "x2  [ 0.99947363  0.2796748  -0.9383082   0.966149...  \n",
       "x3  [ 0.97858137 -0.62593997 -0.9628224   0.768452...  "
      ]
     },
     "execution_count": 21,
     "metadata": {},
     "output_type": "execute_result"
    }
   ],
   "source": [
    "run_session(graph)"
   ]
  },
  {
   "cell_type": "markdown",
   "metadata": {},
   "source": [
    "### Dynamic unrolling through time"
   ]
  },
  {
   "cell_type": "code",
   "execution_count": 22,
   "metadata": {},
   "outputs": [],
   "source": [
    "graph = tf.Graph()\n",
    "with graph.as_default():\n",
    "    X = tf.placeholder(tf.float32, shape=[None, n_steps, n_inputs])\n",
    "    ## NO NEED TO UNSTACK X :)\n",
    "    \n",
    "    basic_cell = tf.contrib.rnn.BasicRNNCell(num_units=n_neurons)\n",
    "    outputs, states = tf.nn.dynamic_rnn(basic_cell, X, dtype=tf.float32)\n",
    "    \n",
    "    ## NO NEED TO STACK outputs"
   ]
  },
  {
   "cell_type": "code",
   "execution_count": 23,
   "metadata": {},
   "outputs": [
    {
     "name": "stdout",
     "output_type": "stream",
     "text": [
      "(4, 2, 5)\n",
      "4 instances, 2 time steps, input size of 5\n"
     ]
    },
    {
     "data": {
      "text/html": [
       "<div>\n",
       "<style scoped>\n",
       "    .dataframe tbody tr th:only-of-type {\n",
       "        vertical-align: middle;\n",
       "    }\n",
       "\n",
       "    .dataframe tbody tr th {\n",
       "        vertical-align: top;\n",
       "    }\n",
       "\n",
       "    .dataframe thead th {\n",
       "        text-align: right;\n",
       "    }\n",
       "</style>\n",
       "<table border=\"1\" class=\"dataframe\">\n",
       "  <thead>\n",
       "    <tr style=\"text-align: right;\">\n",
       "      <th></th>\n",
       "      <th>t0</th>\n",
       "      <th>t1</th>\n",
       "    </tr>\n",
       "  </thead>\n",
       "  <tbody>\n",
       "    <tr>\n",
       "      <th>x0</th>\n",
       "      <td>[ 0.63528943  0.7987668   0.3515431  -0.317671...</td>\n",
       "      <td>[ 1.         0.9999996  0.9931156 -0.815856   ...</td>\n",
       "    </tr>\n",
       "    <tr>\n",
       "      <th>x1</th>\n",
       "      <td>[ 0.9995463  0.999459   0.9029069 -0.6898446  ...</td>\n",
       "      <td>[-0.3296056  -0.34030312  0.18643247 -0.243396...</td>\n",
       "    </tr>\n",
       "    <tr>\n",
       "      <th>x2</th>\n",
       "      <td>[ 0.9999995   0.9999987   0.9892063  -0.877837...</td>\n",
       "      <td>[ 0.99998146  0.99979514  0.9775988  -0.787135...</td>\n",
       "    </tr>\n",
       "    <tr>\n",
       "      <th>x3</th>\n",
       "      <td>[ 0.99999255  0.9970823  -0.8772448  -0.664616...</td>\n",
       "      <td>[ 0.8774123   0.984546   -0.01586861  0.126840...</td>\n",
       "    </tr>\n",
       "  </tbody>\n",
       "</table>\n",
       "</div>"
      ],
      "text/plain": [
       "                                                   t0  \\\n",
       "x0  [ 0.63528943  0.7987668   0.3515431  -0.317671...   \n",
       "x1  [ 0.9995463  0.999459   0.9029069 -0.6898446  ...   \n",
       "x2  [ 0.9999995   0.9999987   0.9892063  -0.877837...   \n",
       "x3  [ 0.99999255  0.9970823  -0.8772448  -0.664616...   \n",
       "\n",
       "                                                   t1  \n",
       "x0  [ 1.         0.9999996  0.9931156 -0.815856   ...  \n",
       "x1  [-0.3296056  -0.34030312  0.18643247 -0.243396...  \n",
       "x2  [ 0.99998146  0.99979514  0.9775988  -0.787135...  \n",
       "x3  [ 0.8774123   0.984546   -0.01586861  0.126840...  "
      ]
     },
     "execution_count": 23,
     "metadata": {},
     "output_type": "execute_result"
    }
   ],
   "source": [
    "run_session(graph)"
   ]
  },
  {
   "cell_type": "markdown",
   "metadata": {},
   "source": [
    "### Handling variable length input sequence"
   ]
  },
  {
   "cell_type": "code",
   "execution_count": 24,
   "metadata": {},
   "outputs": [],
   "source": [
    "sequence_length_batch = np.array([2,1,2,2])"
   ]
  },
  {
   "cell_type": "code",
   "execution_count": 25,
   "metadata": {},
   "outputs": [],
   "source": [
    "graph = tf.Graph()\n",
    "with graph.as_default():\n",
    "    X = tf.placeholder(tf.float32, shape=[None, n_steps, n_inputs])\n",
    "    seq_length = tf.placeholder(tf.int32, shape=[None])\n",
    "    \n",
    "    basic_cell = tf.contrib.rnn.BasicRNNCell(num_units=n_neurons)\n",
    "    outputs, states = tf.nn.dynamic_rnn(basic_cell, X, sequence_length=seq_length, dtype=tf.float32)"
   ]
  },
  {
   "cell_type": "code",
   "execution_count": 26,
   "metadata": {},
   "outputs": [
    {
     "name": "stdout",
     "output_type": "stream",
     "text": [
      "(4, 2, 5)\n",
      "4 instances, 2 time steps, input size of 5\n"
     ]
    },
    {
     "data": {
      "text/html": [
       "<div>\n",
       "<style scoped>\n",
       "    .dataframe tbody tr th:only-of-type {\n",
       "        vertical-align: middle;\n",
       "    }\n",
       "\n",
       "    .dataframe tbody tr th {\n",
       "        vertical-align: top;\n",
       "    }\n",
       "\n",
       "    .dataframe thead th {\n",
       "        text-align: right;\n",
       "    }\n",
       "</style>\n",
       "<table border=\"1\" class=\"dataframe\">\n",
       "  <thead>\n",
       "    <tr style=\"text-align: right;\">\n",
       "      <th></th>\n",
       "      <th>t0</th>\n",
       "      <th>t1</th>\n",
       "    </tr>\n",
       "  </thead>\n",
       "  <tbody>\n",
       "    <tr>\n",
       "      <th>x0</th>\n",
       "      <td>[-0.76000166  0.40982142 -0.8709096  -0.911606...</td>\n",
       "      <td>[-0.9432231   0.9999986  -0.99998087 -0.999165...</td>\n",
       "    </tr>\n",
       "    <tr>\n",
       "      <th>x1</th>\n",
       "      <td>[-0.93941724  0.99532086 -0.99842846 -0.998689...</td>\n",
       "      <td>[0. 0. 0. 0. 0.]</td>\n",
       "    </tr>\n",
       "    <tr>\n",
       "      <th>x2</th>\n",
       "      <td>[-0.98579     0.9999737  -0.99998206 -0.999981...</td>\n",
       "      <td>[-0.64692116  0.9996825  -0.99896747 -0.918826...</td>\n",
       "    </tr>\n",
       "    <tr>\n",
       "      <th>x3</th>\n",
       "      <td>[ 0.7418319   0.9999929  -0.4663073   0.785980...</td>\n",
       "      <td>[ 0.617419    0.97084415 -0.7814771  -0.615265...</td>\n",
       "    </tr>\n",
       "  </tbody>\n",
       "</table>\n",
       "</div>"
      ],
      "text/plain": [
       "                                                   t0  \\\n",
       "x0  [-0.76000166  0.40982142 -0.8709096  -0.911606...   \n",
       "x1  [-0.93941724  0.99532086 -0.99842846 -0.998689...   \n",
       "x2  [-0.98579     0.9999737  -0.99998206 -0.999981...   \n",
       "x3  [ 0.7418319   0.9999929  -0.4663073   0.785980...   \n",
       "\n",
       "                                                   t1  \n",
       "x0  [-0.9432231   0.9999986  -0.99998087 -0.999165...  \n",
       "x1                                   [0. 0. 0. 0. 0.]  \n",
       "x2  [-0.64692116  0.9996825  -0.99896747 -0.918826...  \n",
       "x3  [ 0.617419    0.97084415 -0.7814771  -0.615265...  "
      ]
     },
     "execution_count": 26,
     "metadata": {},
     "output_type": "execute_result"
    }
   ],
   "source": [
    "run_session(graph, sequence_length_batch)"
   ]
  },
  {
   "cell_type": "markdown",
   "metadata": {},
   "source": [
    "### Predicting time series data\n",
    "<img src=\"https://images-na.ssl-images-amazon.com/images/I/51%2B1JJxFM3L._UX385_.jpg\">"
   ]
  },
  {
   "cell_type": "code",
   "execution_count": 27,
   "metadata": {},
   "outputs": [],
   "source": [
    "n_steps = 20\n",
    "n_inputs = 1\n",
    "n_outputs = 1\n",
    "n_neurons = 100"
   ]
  },
  {
   "cell_type": "code",
   "execution_count": 28,
   "metadata": {},
   "outputs": [],
   "source": [
    "batch_size=500\n",
    "t_min = 0\n",
    "t_max = 30\n",
    "resolution = 0.1"
   ]
  },
  {
   "cell_type": "code",
   "execution_count": 29,
   "metadata": {},
   "outputs": [],
   "source": [
    "time_series= lambda t: t*np.sin(t)/3 + 2*np.sin(5*t)\n",
    "def generate_batch(batch_size=500, t_min = 0, t_max = 30, resolution = 0.1, n_steps=20):\n",
    "    t0 = np.random.rand(batch_size, 1) * (t_max - t_min - n_steps * resolution)\n",
    "    Ts = t0 + np.arange(0., n_steps+1) * resolution\n",
    "    ys = time_series(Ts)\n",
    "    return ys[:,:-1].reshape(-1,n_steps, n_inputs), ys[:,1:].reshape(-1,n_steps, n_outputs)"
   ]
  },
  {
   "cell_type": "code",
   "execution_count": 30,
   "metadata": {},
   "outputs": [
    {
     "data": {
      "image/png": "[encoded data removed]",
      "text/plain": [
       "<matplotlib.figure.Figure at 0x7f5e6946b2b0>"
      ]
     },
     "metadata": {},
     "output_type": "display_data"
    }
   ],
   "source": [
    "t = np.linspace(t_min, t_max, int((t_max - t_min) / resolution))\n",
    "t_instance = np.linspace(12.2, 12.2 + resolution * (n_steps + 1), n_steps + 1)\n",
    "\n",
    "plt.figure(figsize=(11,4))\n",
    "plt.subplot(121)\n",
    "plt.title(\"A time series (generated)\", fontsize=14)\n",
    "plt.plot(t, time_series(t), label=r\"$t . \\sin(t) / 3 + 2 . \\sin(5t)$\")\n",
    "plt.plot(t_instance[:-1], time_series(t_instance[:-1]), \"b-\", linewidth=3, label=\"A training instance\")\n",
    "plt.legend(loc=\"lower left\", fontsize=14)\n",
    "plt.axis([0, 30, -17, 13])\n",
    "plt.xlabel(\"Time\")\n",
    "plt.ylabel(\"Value\")\n",
    "\n",
    "plt.subplot(122)\n",
    "plt.title(\"A training instance\", fontsize=14)\n",
    "plt.plot(t_instance[:-1], time_series(t_instance[:-1]), \"bo\", markersize=10, label=\"instance\")\n",
    "plt.plot(t_instance[1:], time_series(t_instance[1:]), \"g*\", markersize=10, label=\"target\")\n",
    "plt.legend(loc=\"upper left\")\n",
    "plt.xlabel(\"Time\")\n",
    "\n",
    "\n",
    "plt.show()"
   ]
  },
  {
   "cell_type": "markdown",
   "metadata": {},
   "source": [
    "### Using `OutputProjectionWrapper`"
   ]
  },
  {
   "cell_type": "code",
   "execution_count": 31,
   "metadata": {},
   "outputs": [],
   "source": [
    "graph = tf.Graph()\n",
    "\n",
    "with graph.as_default():\n",
    "    X = tf.placeholder(tf.float32, [None, n_steps, n_inputs])\n",
    "    y = tf.placeholder(tf.float32, [None, n_steps, n_outputs])\n",
    "    \n",
    "    cell = tf.contrib.rnn.OutputProjectionWrapper(\n",
    "        tf.contrib.rnn.BasicRNNCell(n_neurons, activation=tf.nn.relu),n_outputs)\n",
    "    outputs, states = tf.nn.dynamic_rnn(cell, X, dtype=tf.float32)\n",
    "    \n",
    "    learning_rate = 0.001\n",
    "    \n",
    "    loss = tf.reduce_mean(tf.losses.mean_squared_error(outputs, y))\n",
    "    optimizer = tf.train.AdamOptimizer(learning_rate).minimize(loss)\n",
    "    \n",
    "    _saver = tf.train.Saver()\n",
    "    \n",
    "    init = tf.global_variables_initializer()"
   ]
  },
  {
   "cell_type": "code",
   "execution_count": 32,
   "metadata": {},
   "outputs": [],
   "source": [
    "def run_session(graph, save_name='./sess', n_steps=20, log_graph=False):\n",
    "    \n",
    "    t = np.linspace(t_min, t_max, int((t_max - t_min) / resolution))\n",
    "    t_instance = np.linspace(12.2, 12.2 + resolution * (n_steps + 1), n_steps + 1)\n",
    "    \n",
    "    start = time.time()\n",
    "    with tf.Session(graph=graph) as sess, tf.device(\"/gpu\"):\n",
    "        init.run()\n",
    "        for i in range(1001):\n",
    "            batch_x,batch_y = generate_batch(1000, n_steps=n_steps)\n",
    "            _, loss_value = sess.run([optimizer, loss], feed_dict={X:batch_x, y:batch_y})\n",
    "            if i%100 == 0:\n",
    "                print(\"{0}\\tMSE: {1}\".format(i, loss_value))\n",
    "                if log_graph:\n",
    "                    summary_str = mse_summary.eval(feed_dict={X:batch_x, y:batch_y})\n",
    "                    filewriter.add_summary(summary_str, i)\n",
    "        y_pred, y_states = sess.run(\n",
    "            [outputs, states], feed_dict={X:time_series(t_instance[:-1].reshape(-1, n_steps, n_inputs))})\n",
    "        if i%100==0 and log_graph:\n",
    "            summary_str = mse_summary.eval(feed_dict={X:batch_x, y:batch_y})\n",
    "            filewriter.add_summary(summary_str, i)\n",
    "        _saver.save(sess, save_name)\n",
    "        if log_graph:\n",
    "            filewriter.close()\n",
    "    print(\"Excution time: \",time.time()-start)\n",
    "    plt.figure(figsize=(12,7))\n",
    "    plt.title(\"A training instance\", fontsize=14)\n",
    "    plt.plot(t_instance[:-1], time_series(t_instance[:-1]), \"bo\", markersize=10, label=\"target\")\n",
    "    plt.plot(t_instance[1:], time_series(t_instance[1:]), \"g*\", markersize=10, label=\"target\")\n",
    "    plt.plot(t_instance[1:], y_pred.reshape(-1), \"r.\", markersize=10, label=\"prediction\")\n",
    "    plt.legend(loc=\"upper left\")\n",
    "    plt.xlabel(\"Time\")\n",
    "    return _saver"
   ]
  },
  {
   "cell_type": "code",
   "execution_count": 33,
   "metadata": {
    "scrolled": false
   },
   "outputs": [
    {
     "name": "stdout",
     "output_type": "stream",
     "text": [
      "0\tMSE: 15.508756637573242\n",
      "100\tMSE: 0.48377329111099243\n",
      "200\tMSE: 0.19035355746746063\n",
      "300\tMSE: 0.08275274932384491\n",
      "400\tMSE: 0.056241340935230255\n",
      "500\tMSE: 0.04957512021064758\n",
      "600\tMSE: 0.04993382841348648\n",
      "700\tMSE: 0.048343345522880554\n",
      "800\tMSE: 0.04833965003490448\n",
      "900\tMSE: 0.0467582531273365\n",
      "1000\tMSE: 0.04765038937330246\n",
      "Excution time:  14.564915895462036\n"
     ]
    },
    {
     "data": {
      "text/plain": [
       "<tensorflow.python.training.saver.Saver at 0x7f5e6909d198>"
      ]
     },
     "execution_count": 33,
     "metadata": {},
     "output_type": "execute_result"
    },
    {
     "data": {
      "image/png": "[encoded data removed]",
      "text/plain": [
       "<matplotlib.figure.Figure at 0x7f5e6907ee10>"
      ]
     },
     "metadata": {},
     "output_type": "display_data"
    }
   ],
   "source": [
    "run_session(graph)"
   ]
  },
  {
   "cell_type": "markdown",
   "metadata": {},
   "source": [
    "### Using un/stacking input/output without  `OutputProjectionWrapper`"
   ]
  },
  {
   "cell_type": "code",
   "execution_count": 34,
   "metadata": {},
   "outputs": [],
   "source": [
    "n_steps = 50"
   ]
  },
  {
   "cell_type": "code",
   "execution_count": 35,
   "metadata": {},
   "outputs": [],
   "source": [
    "from datetime import datetime"
   ]
  },
  {
   "cell_type": "code",
   "execution_count": 36,
   "metadata": {},
   "outputs": [],
   "source": [
    "graph = tf.Graph()\n",
    "\n",
    "with graph.as_default():\n",
    "    X = tf.placeholder(tf.float32, [None, n_steps, n_inputs])\n",
    "    y = tf.placeholder(tf.float32, [None, n_steps, n_outputs])\n",
    "    \n",
    "    cell = tf.contrib.rnn.BasicRNNCell(n_neurons, activation=tf.nn.relu)\n",
    "\n",
    "    outputs, states = tf.nn.dynamic_rnn(cell, X, dtype=tf.float32)\n",
    "    \n",
    "    stacked_rnn_outputs = tf.reshape(outputs, (-1, n_neurons))  # output vectors\n",
    "    stacked_outputs = tf.contrib.layers.fully_connected(\n",
    "        stacked_rnn_outputs, n_outputs, activation_fn=None) # output scalars\n",
    "    outputs = tf.reshape(stacked_outputs, (-1, n_steps, n_outputs))\n",
    "    \n",
    "    learning_rate = 0.001\n",
    "    \n",
    "    loss = tf.reduce_mean(tf.losses.mean_squared_error(outputs, y))\n",
    "    optimizer = tf.train.AdamOptimizer(learning_rate).minimize(loss)\n",
    "    \n",
    "    mse_summary = tf.summary.scalar('MSE', loss)\n",
    "    \n",
    "    _saver = tf.train.Saver()\n",
    "    \n",
    "    init = tf.global_variables_initializer()\n",
    "    \n",
    "    root_logdir = \"tf_log\"\n",
    "    logdir = \"{}/run-{}\".format(root_logdir, datetime.now().strftime(\"%Y%m%d%H%M%S\"))\n",
    "    filewriter = tf.summary.FileWriter(logdir, graph)"
   ]
  },
  {
   "cell_type": "code",
   "execution_count": 37,
   "metadata": {
    "scrolled": false
   },
   "outputs": [
    {
     "name": "stdout",
     "output_type": "stream",
     "text": [
      "0\tMSE: 13.607927322387695\n",
      "100\tMSE: 0.22453628480434418\n",
      "200\tMSE: 0.10901650041341782\n",
      "300\tMSE: 0.056180428713560104\n",
      "400\tMSE: 0.031287018209695816\n",
      "500\tMSE: 0.024065295234322548\n",
      "600\tMSE: 0.021332873031497\n",
      "700\tMSE: 0.020531557500362396\n",
      "800\tMSE: 0.01884787157177925\n",
      "900\tMSE: 0.019058775156736374\n",
      "1000\tMSE: 0.01841903291642666\n",
      "Excution time:  26.189128398895264\n"
     ]
    },
    {
     "data": {
      "image/png": "[encoded data removed]",
      "text/plain": [
       "<matplotlib.figure.Figure at 0x7f5e69428128>"
      ]
     },
     "metadata": {},
     "output_type": "display_data"
    }
   ],
   "source": [
    "saver = run_session(graph, n_steps=n_steps, log_graph=True)"
   ]
  },
  {
   "cell_type": "markdown",
   "metadata": {},
   "source": [
    "## Generative RNNs"
   ]
  },
  {
   "cell_type": "code",
   "execution_count": 40,
   "metadata": {
    "scrolled": false
   },
   "outputs": [
    {
     "name": "stdout",
     "output_type": "stream",
     "text": [
      "INFO:tensorflow:Restoring parameters from ./sess\n"
     ]
    }
   ],
   "source": [
    "with tf.Session(graph=graph) as sess:\n",
    "    saver.restore(sess, './sess')\n",
    "    batch_x,y_batch = generate_batch(1, n_steps=n_steps)\n",
    "    sequence = list(batch_x.reshape(-1))\n",
    "    for i in range(300):\n",
    "        x_batch = np.array(sequence[-n_steps:])\n",
    "        y_pred = sess.run(outputs, feed_dict={X: x_batch.reshape(1, n_steps, n_inputs)})\n",
    "        # Here is the generative part :)\n",
    "        assert y_pred.reshape(-1)[-1]==y_pred[0,-1,0]\n",
    "        sequence.append(y_pred[0,-1,0])"
   ]
  },
  {
   "cell_type": "code",
   "execution_count": 41,
   "metadata": {},
   "outputs": [
    {
     "data": {
      "image/png": "[encoded data removed]",
      "text/plain": [
       "<matplotlib.figure.Figure at 0x7f5edf5ac320>"
      ]
     },
     "metadata": {},
     "output_type": "display_data"
    }
   ],
   "source": [
    "plt.figure(figsize=(12,7))\n",
    "plt.plot(np.arange((len(sequence))), sequence)\n",
    "plt.plot(sequence[:n_steps],linewidth=3)\n",
    "plt.xlabel(\"Time\")\n",
    "plt.ylabel(\"Value\")\n",
    "plt.show()"
   ]
  },
  {
   "cell_type": "code",
   "execution_count": null,
   "metadata": {},
   "outputs": [],
   "source": []
  }
 ],
 "metadata": {
  "kernelspec": {
   "display_name": "Python 3",
   "language": "python",
   "name": "python3"
  },
  "language_info": {
   "codemirror_mode": {
    "name": "ipython",
    "version": 3
   },
   "file_extension": ".py",
   "mimetype": "text/x-python",
   "name": "python",
   "nbconvert_exporter": "python",
   "pygments_lexer": "ipython3",
   "version": "3.5.2"
  }
 },
 "nbformat": 4,
 "nbformat_minor": 2
}

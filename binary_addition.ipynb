{
 "cells": [
  {
   "cell_type": "markdown",
   "metadata": {},
   "source": [
    "## Training an RNN to do binary addition"
   ]
  },
  {
   "cell_type": "code",
   "execution_count": 1,
   "metadata": {},
   "outputs": [],
   "source": [
    "from __future__ import print_function, division, absolute_import"
   ]
  },
  {
   "cell_type": "code",
   "execution_count": 2,
   "metadata": {},
   "outputs": [
    {
     "name": "stderr",
     "output_type": "stream",
     "text": [
      "/usr/local/lib/python3.5/dist-packages/h5py/__init__.py:36: FutureWarning: Conversion of the second argument of issubdtype from `float` to `np.floating` is deprecated. In future, it will be treated as `np.float64 == np.dtype(float).type`.\n",
      "  from ._conv import register_converters as _register_converters\n"
     ]
    }
   ],
   "source": [
    "import numpy as np\n",
    "\n",
    "import tensorflow as tf"
   ]
  },
  {
   "cell_type": "code",
   "execution_count": 3,
   "metadata": {},
   "outputs": [],
   "source": [
    "from matplotlib import pyplot as plt\n",
    "%matplotlib inline"
   ]
  },
  {
   "cell_type": "markdown",
   "metadata": {},
   "source": [
    "### Generating data"
   ]
  },
  {
   "cell_type": "code",
   "execution_count": 4,
   "metadata": {},
   "outputs": [],
   "source": [
    "def generate_instance(bin_size=8, a=None, b=None):\n",
    "    max_int = 2 ** bin_size - 1\n",
    "    int2bin = lambda n: np.array([int(i) for i in np.binary_repr(n, bin_size)], dtype=np.int32)\n",
    "    \n",
    "    a = np.random.randint(0, max_int // 2) if a is None else a\n",
    "    x1 = int2bin(a)\n",
    "    \n",
    "    b = np.random.randint(0, max_int // 2) if b is None else b\n",
    "    x2 = int2bin(b)\n",
    "    \n",
    "    c = a + b\n",
    "    y = int2bin(c)\n",
    "    return x1,x2,y"
   ]
  },
  {
   "cell_type": "code",
   "execution_count": 5,
   "metadata": {},
   "outputs": [],
   "source": [
    "def generate_batch(batch_size=100, bin_size=8):\n",
    "    X = np.zeros(shape=[batch_size, bin_size, 2], dtype=np.int32)\n",
    "    Y = np.zeros(shape=(batch_size, bin_size), dtype=np.int32)\n",
    "    for i in range(batch_size):\n",
    "        x1,x2,y = generate_instance(bin_size)\n",
    "        X[i,:,0] = x1\n",
    "        X[i,:,1] = x2\n",
    "        Y[i,:] = y\n",
    "    return X, Y"
   ]
  },
  {
   "cell_type": "code",
   "execution_count": 6,
   "metadata": {},
   "outputs": [],
   "source": [
    "def ints2bins(ints, bin_size=8, concatenate=False):\n",
    "    if concatenate:\n",
    "        X = np.zeros([len(ints)**2, bin_size*2])\n",
    "    else:\n",
    "        X = np.zeros([len(ints)**2, bin_size, 2])\n",
    "    \n",
    "    Y = np.zeros([len(ints)**2, bin_size])\n",
    "    \n",
    "    for i, a in enumerate(ints):\n",
    "        for j, b in enumerate(ints):\n",
    "            row_idx = i+j\n",
    "            x1,x2,y = generate_instance(bin_size, a, b)\n",
    "            if concatenate:\n",
    "                X[row_idx,:] = np.concatenate((x1,x2))\n",
    "            else:\n",
    "                X[row_idx,:,0] = x1\n",
    "                X[row_idx,:,1] = x2\n",
    "            Y[row_idx,:] = y\n",
    "    return X,Y"
   ]
  },
  {
   "cell_type": "code",
   "execution_count": 7,
   "metadata": {},
   "outputs": [],
   "source": [
    "# This is if we want to make test instances that never appeared in the training set\n",
    "def generate_train_test_set(bin_size=8, test_ratio=0.2, concatenate=False):\n",
    "    max_int = 2 ** (bin_size-1)\n",
    "    \n",
    "    test_ints = np.random.choice(range(max_int), int(test_ratio*max_int), replace=False)\n",
    "    train_ints = [i for i in range(max_int) if i not in test_ints]\n",
    "    \n",
    "    train_X, train_Y = ints2bins(train_ints, bin_size, concatenate)\n",
    "    test_X, test_Y = ints2bins(test_ints, bin_size, concatenate)\n",
    "    \n",
    "    return train_X, train_Y, test_X, test_Y"
   ]
  },
  {
   "cell_type": "markdown",
   "metadata": {},
   "source": [
    "### 100 integers are used for training\n",
    "### The other 28 ones are used for testing"
   ]
  },
  {
   "cell_type": "markdown",
   "metadata": {},
   "source": [
    "## First: Linear Regression\n",
    "<img src=\"http://www.biostathandbook.com/pix/regressionlollipop.gif\">"
   ]
  },
  {
   "cell_type": "code",
   "execution_count": 8,
   "metadata": {},
   "outputs": [],
   "source": [
    "seed = 48\n",
    "bin_size=8\n",
    "hidden_size = 16\n",
    "\n",
    "np.random.seed(seed)"
   ]
  },
  {
   "cell_type": "code",
   "execution_count": 9,
   "metadata": {},
   "outputs": [],
   "source": [
    "graph = tf.Graph()\n",
    "with graph.as_default():\n",
    "    tf.set_random_seed(seed)\n",
    "    train_x = tf.placeholder(tf.float32, shape=[None,bin_size*2])\n",
    "    train_y = tf.placeholder(tf.float32, shape=[None, bin_size])\n",
    "    \n",
    "    w = tf.Variable(tf.random_normal(shape=[bin_size*2, bin_size]))\n",
    "    b = tf.Variable(tf.zeros(shape=[bin_size]))\n",
    "    \n",
    "    def model(data):\n",
    "        return tf.nn.sigmoid(tf.add(tf.matmul(data,w),b))\n",
    "    \n",
    "    pred = model(train_x)\n",
    "    loss = tf.reduce_mean(tf.norm(train_y-pred))\n",
    "    mse = tf.reduce_mean(tf.losses.mean_squared_error(train_y, pred))\n",
    "    optimizer = tf.train.AdamOptimizer().minimize(loss)"
   ]
  },
  {
   "cell_type": "code",
   "execution_count": 10,
   "metadata": {},
   "outputs": [
    {
     "data": {
      "text/plain": [
       "((10609, 16), (10609, 8))"
      ]
     },
     "execution_count": 10,
     "metadata": {},
     "output_type": "execute_result"
    }
   ],
   "source": [
    "train_X, train_Y, test_X, test_Y = generate_train_test_set(concatenate=True)\n",
    "train_X.shape, train_Y.shape"
   ]
  },
  {
   "cell_type": "code",
   "execution_count": 11,
   "metadata": {},
   "outputs": [],
   "source": [
    "def run_session(graph):\n",
    "    with tf.Session(graph=graph) as sess:\n",
    "        sess.run(tf.global_variables_initializer())\n",
    "        training = dict()\n",
    "        testing = dict()\n",
    "        training_mse = dict()\n",
    "        testing_mse = dict()\n",
    "        for j in range(20001):\n",
    "            feed_dict = {train_x:train_X, train_y:train_Y}\n",
    "            _, training_loss, training_mse_value = sess.run([optimizer, loss, mse], feed_dict=feed_dict)\n",
    "            if j%10 == 0:\n",
    "                training[j] = training_loss\n",
    "                training_mse[j] = training_mse_value\n",
    "                feed_dict = {train_x:test_X, train_y:test_Y}\n",
    "                testing_loss = loss.eval(feed_dict=feed_dict)\n",
    "                testing_mse_value = mse.eval(feed_dict=feed_dict)\n",
    "                testing[j] = testing_loss\n",
    "                testing_mse[j] = testing_mse_value\n",
    "                if j%1000==0:\n",
    "                    print(\n",
    "                        \"\"\"Epoch {0}\\n\n",
    "                        Train euclidean distance: {1}\\n\n",
    "                        Train MSE: {2}\\n\n",
    "                        Test euclidean distance: {3}\\n\n",
    "                        Test MSE: {4}\"\"\".format(\n",
    "                        j,training_loss, training_mse_value, testing_loss, testing_mse_value))\n",
    "                    print(\"~\"*40)\n",
    "    return training, testing, training_mse, testing_mse"
   ]
  },
  {
   "cell_type": "code",
   "execution_count": 12,
   "metadata": {},
   "outputs": [],
   "source": [
    "def plot_results(training, testing, training_mse, testing_mse):\n",
    "    fig, ax1 = plt.subplots(figsize=(12,7))\n",
    "    xticks = sorted(training.keys())\n",
    "    data1 = [training[i] for i in xticks]\n",
    "    data2 = [testing[i] for i in xticks]\n",
    "    data3 = [training_mse[i] for i in xticks]\n",
    "    data4 = [testing_mse[i] for i in xticks]\n",
    "\n",
    "    color1 = 'tab:blue'\n",
    "    color2 = 'tab:green'\n",
    "    ax1.set_xlabel('Epochs')\n",
    "    ax1.set_ylabel('Euclidean Distance')\n",
    "    ax1.plot(xticks, data1, color=color1)\n",
    "    ax1.plot(xticks, data2, color=color2)\n",
    "    ax1.tick_params(axis='y')\n",
    "\n",
    "    ax1.legend([\"Train euclidean distance\", \"Test euclidean distance\"])\n",
    "\n",
    "    ax2 = ax1.twinx()  # instantiate a second axes that shares the same x-axis\n",
    "\n",
    "    color1 = 'tab:red'\n",
    "    color2 = 'yellow'\n",
    "    ax2.set_ylabel('MSE')\n",
    "    ax2.plot(xticks, data3, color=color1)\n",
    "    ax2.plot(xticks, data4, color=color2)\n",
    "    ax2.tick_params(axis='y')\n",
    "    ax2.legend([\"Train MSE\", \"Test MSE\"], loc=9)\n",
    "\n",
    "    fig.tight_layout()  # otherwise the right y-label is slightly clipped"
   ]
  },
  {
   "cell_type": "code",
   "execution_count": 13,
   "metadata": {
    "scrolled": true
   },
   "outputs": [
    {
     "name": "stdout",
     "output_type": "stream",
     "text": [
      "Epoch 0\n",
      "Train euclidean distance: 146.32882690429688\n",
      "Train MSE: 0.2522872984409332\n",
      "Test euclidean distance: 35.980751037597656\n",
      "Test MSE: 0.25892287492752075\n",
      "~~~~~~~~~~~~~~~~~~~~~~~~~~~~~~~~~~~~~~~~\n",
      "Epoch 1000\n",
      "Train euclidean distance: 81.6683349609375\n",
      "Train MSE: 0.07858560234308243\n",
      "Test euclidean distance: 21.79468536376953\n",
      "Test MSE: 0.09500166773796082\n",
      "~~~~~~~~~~~~~~~~~~~~~~~~~~~~~~~~~~~~~~~~\n",
      "Epoch 2000\n",
      "Train euclidean distance: 44.7773551940918\n",
      "Train MSE: 0.02362394705414772\n",
      "Test euclidean distance: 14.953043937683105\n",
      "Test MSE: 0.04471870884299278\n",
      "~~~~~~~~~~~~~~~~~~~~~~~~~~~~~~~~~~~~~~~~\n",
      "Epoch 3000\n",
      "Train euclidean distance: 27.01383399963379\n",
      "Train MSE: 0.008598209358751774\n",
      "Test euclidean distance: 12.422567367553711\n",
      "Test MSE: 0.030864037573337555\n",
      "~~~~~~~~~~~~~~~~~~~~~~~~~~~~~~~~~~~~~~~~\n",
      "Epoch 4000\n",
      "Train euclidean distance: 18.337366104125977\n",
      "Train MSE: 0.003961954265832901\n",
      "Test euclidean distance: 11.56281852722168\n",
      "Test MSE: 0.026739755645394325\n",
      "~~~~~~~~~~~~~~~~~~~~~~~~~~~~~~~~~~~~~~~~\n",
      "Epoch 5000\n",
      "Train euclidean distance: 14.013382911682129\n",
      "Train MSE: 0.0023137773387134075\n",
      "Test euclidean distance: 11.301223754882812\n",
      "Test MSE: 0.025543533265590668\n",
      "~~~~~~~~~~~~~~~~~~~~~~~~~~~~~~~~~~~~~~~~\n",
      "Epoch 6000\n",
      "Train euclidean distance: 11.826163291931152\n",
      "Train MSE: 0.0016478713368996978\n",
      "Test euclidean distance: 11.22632884979248\n",
      "Test MSE: 0.02520609274506569\n",
      "~~~~~~~~~~~~~~~~~~~~~~~~~~~~~~~~~~~~~~~~\n",
      "Epoch 7000\n",
      "Train euclidean distance: 10.686662673950195\n",
      "Train MSE: 0.0013456117594614625\n",
      "Test euclidean distance: 11.21026611328125\n",
      "Test MSE: 0.02513401210308075\n",
      "~~~~~~~~~~~~~~~~~~~~~~~~~~~~~~~~~~~~~~~~\n",
      "Epoch 8000\n",
      "Train euclidean distance: 10.065386772155762\n",
      "Train MSE: 0.00119370361790061\n",
      "Test euclidean distance: 11.212016105651855\n",
      "Test MSE: 0.02514185942709446\n",
      "~~~~~~~~~~~~~~~~~~~~~~~~~~~~~~~~~~~~~~~~\n",
      "Epoch 9000\n",
      "Train euclidean distance: 9.709004402160645\n",
      "Train MSE: 0.0011106696911156178\n",
      "Test euclidean distance: 11.218555450439453\n",
      "Test MSE: 0.025171197950839996\n",
      "~~~~~~~~~~~~~~~~~~~~~~~~~~~~~~~~~~~~~~~~\n",
      "Epoch 10000\n",
      "Train euclidean distance: 9.494424819946289\n",
      "Train MSE: 0.0010621182154864073\n",
      "Test euclidean distance: 11.225788116455078\n",
      "Test MSE: 0.025203663855791092\n",
      "~~~~~~~~~~~~~~~~~~~~~~~~~~~~~~~~~~~~~~~~\n",
      "Epoch 11000\n",
      "Train euclidean distance: 9.35939884185791\n",
      "Train MSE: 0.0010321231093257666\n",
      "Test euclidean distance: 11.232507705688477\n",
      "Test MSE: 0.02523384429514408\n",
      "~~~~~~~~~~~~~~~~~~~~~~~~~~~~~~~~~~~~~~~~\n",
      "Epoch 12000\n",
      "Train euclidean distance: 9.270913124084473\n",
      "Train MSE: 0.001012699562124908\n",
      "Test euclidean distance: 11.238482475280762\n",
      "Test MSE: 0.025260696187615395\n",
      "~~~~~~~~~~~~~~~~~~~~~~~~~~~~~~~~~~~~~~~~\n",
      "Epoch 13000\n",
      "Train euclidean distance: 9.210638046264648\n",
      "Train MSE: 0.0009995742002502084\n",
      "Test euclidean distance: 11.243722915649414\n",
      "Test MSE: 0.025284262374043465\n",
      "~~~~~~~~~~~~~~~~~~~~~~~~~~~~~~~~~~~~~~~~\n",
      "Epoch 14000\n",
      "Train euclidean distance: 9.167991638183594\n",
      "Train MSE: 0.0009903390891849995\n",
      "Test euclidean distance: 11.248391151428223\n",
      "Test MSE: 0.025305259972810745\n",
      "~~~~~~~~~~~~~~~~~~~~~~~~~~~~~~~~~~~~~~~~\n",
      "Epoch 15000\n",
      "Train euclidean distance: 9.136665344238281\n",
      "Train MSE: 0.0009835829259827733\n",
      "Test euclidean distance: 11.252579689025879\n",
      "Test MSE: 0.025324108079075813\n",
      "~~~~~~~~~~~~~~~~~~~~~~~~~~~~~~~~~~~~~~~~\n",
      "Epoch 16000\n",
      "Train euclidean distance: 9.112814903259277\n",
      "Train MSE: 0.0009784545982256532\n",
      "Test euclidean distance: 11.256372451782227\n",
      "Test MSE: 0.025341184809803963\n",
      "~~~~~~~~~~~~~~~~~~~~~~~~~~~~~~~~~~~~~~~~\n",
      "Epoch 17000\n",
      "Train euclidean distance: 9.094073295593262\n",
      "Train MSE: 0.0009744340204633772\n",
      "Test euclidean distance: 11.259825706481934\n",
      "Test MSE: 0.025356734171509743\n",
      "~~~~~~~~~~~~~~~~~~~~~~~~~~~~~~~~~~~~~~~~\n",
      "Epoch 18000\n",
      "Train euclidean distance: 9.07897663116455\n",
      "Train MSE: 0.0009712014580145478\n",
      "Test euclidean distance: 11.262981414794922\n",
      "Test MSE: 0.025370948016643524\n",
      "~~~~~~~~~~~~~~~~~~~~~~~~~~~~~~~~~~~~~~~~\n",
      "Epoch 19000\n",
      "Train euclidean distance: 9.066612243652344\n",
      "Train MSE: 0.0009685580735094845\n",
      "Test euclidean distance: 11.265898704528809\n",
      "Test MSE: 0.025384096428751945\n",
      "~~~~~~~~~~~~~~~~~~~~~~~~~~~~~~~~~~~~~~~~\n",
      "Epoch 20000\n",
      "Train euclidean distance: 9.056379318237305\n",
      "Train MSE: 0.0009663730161264539\n",
      "Test euclidean distance: 11.268585205078125\n",
      "Test MSE: 0.025396199896931648\n",
      "~~~~~~~~~~~~~~~~~~~~~~~~~~~~~~~~~~~~~~~~\n"
     ]
    }
   ],
   "source": [
    "training, testing, training_mse, testing_mse = run_session(graph)"
   ]
  },
  {
   "cell_type": "code",
   "execution_count": 14,
   "metadata": {},
   "outputs": [
    {
     "data": {
      "image/png": "[encoded data removed]",
      "text/plain": [
       "<matplotlib.figure.Figure at 0x7fe0c289feb8>"
      ]
     },
     "metadata": {},
     "output_type": "display_data"
    }
   ],
   "source": [
    "plot_results(training, testing, training_mse, testing_mse)"
   ]
  },
  {
   "cell_type": "markdown",
   "metadata": {},
   "source": [
    "## Second: Single-Layer Perceptron\n",
    "<a href=\"http://www.saedsayad.com/artificial_neural_network_bkp.htm\">\n",
    "    Dr. Saed Sayad: Artificial Neural Network - Perceptron\n",
    "   <img src=\"http://www.saedsayad.com/images/Perceptron_bkp_1.png\">\n",
    "    </a>"
   ]
  },
  {
   "cell_type": "code",
   "execution_count": 15,
   "metadata": {},
   "outputs": [],
   "source": [
    "graph = tf.Graph()\n",
    "with graph.as_default():\n",
    "    train_x = tf.placeholder(tf.float32, [None, bin_size*2])\n",
    "    train_y = tf.placeholder(tf.float32, [None, bin_size])\n",
    "    \n",
    "    theta = tf.Variable(\n",
    "        tf.random_normal(shape=[bin_size*2, bin_size])\n",
    "    )\n",
    "    bias = tf.Variable(\n",
    "        tf.zeros(shape=[bin_size])\n",
    "    )\n",
    "    \n",
    "    pred = tf.add(tf.matmul(train_x,theta),bias)\n",
    "    loss = tf.reduce_mean(tf.norm(train_y-pred))\n",
    "    mse = tf.reduce_mean(tf.losses.mean_squared_error(train_y, pred))\n",
    "    optimizer = tf.train.GradientDescentOptimizer(0.01).minimize(mse)"
   ]
  },
  {
   "cell_type": "code",
   "execution_count": 16,
   "metadata": {},
   "outputs": [
    {
     "name": "stdout",
     "output_type": "stream",
     "text": [
      "Epoch 0\n",
      "Train euclidean distance: 118.4190673828125\n",
      "Train MSE: 0.16522617638111115\n",
      "Test euclidean distance: 59.0324821472168\n",
      "Test MSE: 0.6969667673110962\n",
      "~~~~~~~~~~~~~~~~~~~~~~~~~~~~~~~~~~~~~~~~\n",
      "Epoch 1000\n",
      "Train euclidean distance: 99.674072265625\n",
      "Train MSE: 0.1170576885342598\n",
      "Test euclidean distance: 52.67510223388672\n",
      "Test MSE: 0.5549332499504089\n",
      "~~~~~~~~~~~~~~~~~~~~~~~~~~~~~~~~~~~~~~~~\n",
      "Epoch 2000\n",
      "Train euclidean distance: 86.05057525634766\n",
      "Train MSE: 0.08724552392959595\n",
      "Test euclidean distance: 48.574867248535156\n",
      "Test MSE: 0.47190356254577637\n",
      "~~~~~~~~~~~~~~~~~~~~~~~~~~~~~~~~~~~~~~~~\n",
      "Epoch 3000\n",
      "Train euclidean distance: 75.81051635742188\n",
      "Train MSE: 0.06771648675203323\n",
      "Test euclidean distance: 45.77351760864258\n",
      "Test MSE: 0.41904300451278687\n",
      "~~~~~~~~~~~~~~~~~~~~~~~~~~~~~~~~~~~~~~~~\n",
      "Epoch 4000\n",
      "Train euclidean distance: 68.2406005859375\n",
      "Train MSE: 0.054868269711732864\n",
      "Test euclidean distance: 43.874610900878906\n",
      "Test MSE: 0.38499632477760315\n",
      "~~~~~~~~~~~~~~~~~~~~~~~~~~~~~~~~~~~~~~~~\n",
      "Epoch 5000\n",
      "Train euclidean distance: 62.73258590698242\n",
      "Train MSE: 0.04636838287115097\n",
      "Test euclidean distance: 42.59306335449219\n",
      "Test MSE: 0.36283382773399353\n",
      "~~~~~~~~~~~~~~~~~~~~~~~~~~~~~~~~~~~~~~~~\n",
      "Epoch 6000\n",
      "Train euclidean distance: 58.77284622192383\n",
      "Train MSE: 0.040699493139982224\n",
      "Test euclidean distance: 41.721717834472656\n",
      "Test MSE: 0.34814032912254333\n",
      "~~~~~~~~~~~~~~~~~~~~~~~~~~~~~~~~~~~~~~~~\n",
      "Epoch 7000\n",
      "Train euclidean distance: 55.942962646484375\n",
      "Train MSE: 0.03687453269958496\n",
      "Test euclidean distance: 41.1159553527832\n",
      "Test MSE: 0.33810433745384216\n",
      "~~~~~~~~~~~~~~~~~~~~~~~~~~~~~~~~~~~~~~~~\n",
      "Epoch 8000\n",
      "Train euclidean distance: 53.9162712097168\n",
      "Train MSE: 0.03425115719437599\n",
      "Test euclidean distance: 40.67795181274414\n",
      "Test MSE: 0.3309391736984253\n",
      "~~~~~~~~~~~~~~~~~~~~~~~~~~~~~~~~~~~~~~~~\n",
      "Epoch 9000\n",
      "Train euclidean distance: 52.448455810546875\n",
      "Train MSE: 0.03241163492202759\n",
      "Test euclidean distance: 40.343624114990234\n",
      "Test MSE: 0.3255216181278229\n",
      "~~~~~~~~~~~~~~~~~~~~~~~~~~~~~~~~~~~~~~~~\n",
      "Epoch 10000\n",
      "Train euclidean distance: 51.3631477355957\n",
      "Train MSE: 0.03108413890004158\n",
      "Test euclidean distance: 40.07163619995117\n",
      "Test MSE: 0.32114720344543457\n",
      "~~~~~~~~~~~~~~~~~~~~~~~~~~~~~~~~~~~~~~~~\n",
      "Epoch 11000\n",
      "Train euclidean distance: 50.53658676147461\n",
      "Train MSE: 0.030091743916273117\n",
      "Test euclidean distance: 39.83598327636719\n",
      "Test MSE: 0.3173811137676239\n",
      "~~~~~~~~~~~~~~~~~~~~~~~~~~~~~~~~~~~~~~~~\n",
      "Epoch 12000\n",
      "Train euclidean distance: 49.88374328613281\n",
      "Train MSE: 0.02931930311024189\n",
      "Test euclidean distance: 39.62067413330078\n",
      "Test MSE: 0.3139595687389374\n",
      "~~~~~~~~~~~~~~~~~~~~~~~~~~~~~~~~~~~~~~~~\n",
      "Epoch 13000\n",
      "Train euclidean distance: 49.347110748291016\n",
      "Train MSE: 0.028691880404949188\n",
      "Test euclidean distance: 39.4158935546875\n",
      "Test MSE: 0.3107225298881531\n",
      "~~~~~~~~~~~~~~~~~~~~~~~~~~~~~~~~~~~~~~~~\n",
      "Epoch 14000\n",
      "Train euclidean distance: 48.8883171081543\n",
      "Train MSE: 0.02816084586083889\n",
      "Test euclidean distance: 39.21620559692383\n",
      "Test MSE: 0.30758216977119446\n",
      "~~~~~~~~~~~~~~~~~~~~~~~~~~~~~~~~~~~~~~~~\n",
      "Epoch 15000\n",
      "Train euclidean distance: 48.48163986206055\n",
      "Train MSE: 0.027694283053278923\n",
      "Test euclidean distance: 39.01808166503906\n",
      "Test MSE: 0.3044821619987488\n",
      "~~~~~~~~~~~~~~~~~~~~~~~~~~~~~~~~~~~~~~~~\n",
      "Epoch 16000\n",
      "Train euclidean distance: 48.110164642333984\n",
      "Train MSE: 0.027271512895822525\n",
      "Test euclidean distance: 38.8202018737793\n",
      "Test MSE: 0.30140161514282227\n",
      "~~~~~~~~~~~~~~~~~~~~~~~~~~~~~~~~~~~~~~~~\n",
      "Epoch 17000\n",
      "Train euclidean distance: 47.76283264160156\n",
      "Train MSE: 0.026879163458943367\n",
      "Test euclidean distance: 38.621803283691406\n",
      "Test MSE: 0.2983287572860718\n",
      "~~~~~~~~~~~~~~~~~~~~~~~~~~~~~~~~~~~~~~~~\n",
      "Epoch 18000\n",
      "Train euclidean distance: 47.43220901489258\n",
      "Train MSE: 0.026508323848247528\n",
      "Test euclidean distance: 38.422607421875\n",
      "Test MSE: 0.29525935649871826\n",
      "~~~~~~~~~~~~~~~~~~~~~~~~~~~~~~~~~~~~~~~~\n",
      "Epoch 19000\n",
      "Train euclidean distance: 47.11322784423828\n",
      "Train MSE: 0.02615298703312874\n",
      "Test euclidean distance: 38.22241973876953\n",
      "Test MSE: 0.29219064116477966\n",
      "~~~~~~~~~~~~~~~~~~~~~~~~~~~~~~~~~~~~~~~~\n",
      "Epoch 20000\n",
      "Train euclidean distance: 46.80309295654297\n",
      "Train MSE: 0.02580980211496353\n",
      "Test euclidean distance: 38.021915435791016\n",
      "Test MSE: 0.289133220911026\n",
      "~~~~~~~~~~~~~~~~~~~~~~~~~~~~~~~~~~~~~~~~\n"
     ]
    }
   ],
   "source": [
    "training, testing, training_mse, testing_mse = run_session(graph)"
   ]
  },
  {
   "cell_type": "code",
   "execution_count": 17,
   "metadata": {},
   "outputs": [
    {
     "data": {
      "image/png": "[encoded data removed]",
      "text/plain": [
       "<matplotlib.figure.Figure at 0x7fe0c289f9e8>"
      ]
     },
     "metadata": {},
     "output_type": "display_data"
    }
   ],
   "source": [
    "plot_results(training, testing, training_mse, testing_mse)"
   ]
  },
  {
   "cell_type": "markdown",
   "metadata": {},
   "source": [
    "## Now let's try RNN\n",
    "<a href=\"http://peterroelants.github.io/posts/rnn_implementation_part02/\">\n",
    "    Peter's notes: How to implement a recurrent neural network\n",
    "<img src=\"https://raw.githubusercontent.com/peterroelants/peterroelants.github.io/master/notebooks/RNN_implementation/img/SimpleRNN02_1.png\"></a>\n",
    "\n",
    "### Let's define sequenced data\n",
    "- The input is _N_ number of binary sequences each of size _n_\n",
    "    - Bits are considered as timesteps.\n",
    "    - _N_ is the batch size and _n_ is the number of bits we use to represent integers\n",
    "- The target is the the number of 1's in each sequence, which is the sum of the sequence since it is binary"
   ]
  },
  {
   "cell_type": "code",
   "execution_count": 18,
   "metadata": {},
   "outputs": [],
   "source": [
    "# def generate_sequenced_batch(batch_size=100, bin_size=8):\n",
    "#     X = np.round(np.random.random((batch_size, bin_size))).astype(int)\n",
    "#     Y = np.sum(X, axis=1)\n",
    "#     return X,y"
   ]
  },
  {
   "cell_type": "code",
   "execution_count": 19,
   "metadata": {},
   "outputs": [],
   "source": [
    "# train_X, train_Y, test_X, test_Y = generate_train_test_set()\n",
    "# train_X.shape, train_Y.shape"
   ]
  }
 ],
 "metadata": {
  "kernelspec": {
   "display_name": "Python 3",
   "language": "python",
   "name": "python3"
  },
  "language_info": {
   "codemirror_mode": {
    "name": "ipython",
    "version": 3
   },
   "file_extension": ".py",
   "mimetype": "text/x-python",
   "name": "python",
   "nbconvert_exporter": "python",
   "pygments_lexer": "ipython3",
   "version": "3.5.2"
  }
 },
 "nbformat": 4,
 "nbformat_minor": 2
}

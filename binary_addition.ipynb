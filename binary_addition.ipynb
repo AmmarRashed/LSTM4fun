{
 "cells": [
  {
   "cell_type": "markdown",
   "metadata": {},
   "source": [
    "## Training an RNN to do binary addition"
   ]
  },
  {
   "cell_type": "code",
   "execution_count": 1,
   "metadata": {},
   "outputs": [],
   "source": [
    "from __future__ import print_function, division, absolute_import"
   ]
  },
  {
   "cell_type": "code",
   "execution_count": 2,
   "metadata": {},
   "outputs": [
    {
     "name": "stderr",
     "output_type": "stream",
     "text": [
      "/usr/local/lib/python3.5/dist-packages/h5py/__init__.py:36: FutureWarning: Conversion of the second argument of issubdtype from `float` to `np.floating` is deprecated. In future, it will be treated as `np.float64 == np.dtype(float).type`.\n",
      "  from ._conv import register_converters as _register_converters\n"
     ]
    }
   ],
   "source": [
    "import numpy as np\n",
    "\n",
    "import tensorflow as tf"
   ]
  },
  {
   "cell_type": "markdown",
   "metadata": {},
   "source": [
    "### Generating data"
   ]
  },
  {
   "cell_type": "code",
   "execution_count": 3,
   "metadata": {},
   "outputs": [],
   "source": [
    "def generate_instance(bin_size=8, a=None, b=None):\n",
    "    max_int = 2 ** bin_size - 1\n",
    "    int2bin = lambda n: np.array([int(i) for i in np.binary_repr(n, bin_size)], dtype=np.int32)\n",
    "    \n",
    "    a = np.random.randint(0, max_int // 2) if a is None else a\n",
    "    x1 = int2bin(a)\n",
    "    \n",
    "    b = np.random.randint(0, max_int // 2) if b is None else b\n",
    "    x2 = int2bin(b)\n",
    "    \n",
    "    c = a + b\n",
    "    y = int2bin(c)\n",
    "    return x1,x2,y"
   ]
  },
  {
   "cell_type": "code",
   "execution_count": 4,
   "metadata": {},
   "outputs": [],
   "source": [
    "def generate_batch(batch_size=100, bin_size=8):\n",
    "    X = np.zeros(shape=[batch_size, bin_size, 2], dtype=np.int32)\n",
    "    Y = np.zeros(shape=(batch_size, bin_size), dtype=np.int32)\n",
    "    for i in range(batch_size):\n",
    "        x1,x2,y = generate_instance(bin_size)\n",
    "        X[i,:,0] = x1\n",
    "        X[i,:,1] = x2\n",
    "        Y[i,:] = y\n",
    "    return X, Y"
   ]
  },
  {
   "cell_type": "code",
   "execution_count": 5,
   "metadata": {},
   "outputs": [],
   "source": [
    "def ints2bins(ints, bin_size=8, concatenate=False):\n",
    "    if concatenate:\n",
    "        X = np.zeros([len(ints)**2, bin_size*2])\n",
    "    else:\n",
    "        X = np.zeros([len(ints)**2, bin_size, 2])\n",
    "    \n",
    "    Y = np.zeros([len(ints)**2, bin_size])\n",
    "    \n",
    "    for i, a in enumerate(ints):\n",
    "        for j, b in enumerate(ints):\n",
    "            row_idx = i+j\n",
    "            x1,x2,y = generate_instance(bin_size, a, b)\n",
    "            if concatenate:\n",
    "                X[row_idx,:] = np.concatenate((x1,x2))\n",
    "            else:\n",
    "                X[row_idx,:,0] = x1\n",
    "                X[row_idx,:,1] = x2\n",
    "            Y[row_idx,:] = y\n",
    "    return X,Y"
   ]
  },
  {
   "cell_type": "code",
   "execution_count": 6,
   "metadata": {},
   "outputs": [],
   "source": [
    "# This is if we want to make test instances that never appeared in the training set\n",
    "def generate_train_test_set(bin_size=8, test_ratio=0.2, concatenate=False):\n",
    "    max_int = 2 ** (bin_size-1)\n",
    "    \n",
    "    test_ints = np.random.choice(range(max_int), int(test_ratio*max_int), replace=False)\n",
    "    train_ints = [i for i in range(max_int) if i not in test_ints]\n",
    "    \n",
    "    train_X, train_Y = ints2bins(train_ints, bin_size, concatenate)\n",
    "    test_X, test_Y = ints2bins(test_ints, bin_size, concatenate)\n",
    "    \n",
    "    return train_X, train_Y, test_X, test_Y"
   ]
  },
  {
   "cell_type": "markdown",
   "metadata": {},
   "source": [
    "## First: let's see the performance of a single layer perceptron\n",
    "### Spoiler: ~11 euclidean distance is as good as we could get with SLP\n",
    "### Euclidean distance is used as loss function\n",
    "\n",
    "<a href=\"http://www.saedsayad.com/artificial_neural_network_bkp.htm\">\n",
    "    Dr. Saed Sayad: Artificial Neural Network - Perceptron\n",
    "   <img src=\"http://www.saedsayad.com/images/Perceptron_bkp_1.png\">\n",
    "    </a>"
   ]
  },
  {
   "cell_type": "markdown",
   "metadata": {},
   "source": [
    "### 100 integers are used for training\n",
    "### The other 28 ones are used for testing"
   ]
  },
  {
   "cell_type": "code",
   "execution_count": 7,
   "metadata": {},
   "outputs": [],
   "source": [
    "seed = 48\n",
    "bin_size=8\n",
    "hidden_size = 16\n",
    "\n",
    "np.random.seed(seed)"
   ]
  },
  {
   "cell_type": "code",
   "execution_count": 8,
   "metadata": {},
   "outputs": [],
   "source": [
    "graph = tf.Graph()\n",
    "with graph.as_default():\n",
    "    tf.set_random_seed(seed)\n",
    "    train_x = tf.placeholder(tf.float32, shape=[None,bin_size*2])\n",
    "    train_y = tf.placeholder(tf.float32, shape=[None, bin_size])\n",
    "    \n",
    "    w = tf.Variable(tf.random_normal(shape=[bin_size*2, bin_size]))\n",
    "    b = tf.Variable(tf.zeros(shape=[bin_size]))\n",
    "    \n",
    "    \n",
    "    def model(data):\n",
    "        return tf.nn.sigmoid(tf.add(tf.matmul(data,w),b))\n",
    "    \n",
    "    pred = model(train_x)\n",
    "    loss = tf.reduce_mean(tf.norm(train_y-pred))\n",
    "    optimizer = tf.train.AdamOptimizer().minimize(loss)"
   ]
  },
  {
   "cell_type": "code",
   "execution_count": 9,
   "metadata": {},
   "outputs": [
    {
     "data": {
      "text/plain": [
       "((10609, 16), (10609, 8))"
      ]
     },
     "execution_count": 9,
     "metadata": {},
     "output_type": "execute_result"
    }
   ],
   "source": [
    "train_X, train_Y, test_X, test_Y = generate_train_test_set(concatenate=True)\n",
    "train_X.shape, train_Y.shape"
   ]
  },
  {
   "cell_type": "code",
   "execution_count": 10,
   "metadata": {
    "scrolled": true
   },
   "outputs": [
    {
     "name": "stdout",
     "output_type": "stream",
     "text": [
      "Epoch 0\n",
      "Training Loss: 146.32882690429688\n",
      "Testing Loss: 35.980751037597656\n",
      "~~~~~~~~~~~~~~~~~~~~~~~~~~~~~~~~~~~~~~~~\n",
      "Epoch 1000\n",
      "Training Loss: 81.6683349609375\n",
      "Testing Loss: 21.79468536376953\n",
      "~~~~~~~~~~~~~~~~~~~~~~~~~~~~~~~~~~~~~~~~\n",
      "Epoch 2000\n",
      "Training Loss: 44.7773551940918\n",
      "Testing Loss: 14.953043937683105\n",
      "~~~~~~~~~~~~~~~~~~~~~~~~~~~~~~~~~~~~~~~~\n",
      "Epoch 3000\n",
      "Training Loss: 27.01383399963379\n",
      "Testing Loss: 12.422567367553711\n",
      "~~~~~~~~~~~~~~~~~~~~~~~~~~~~~~~~~~~~~~~~\n",
      "Epoch 4000\n",
      "Training Loss: 18.337366104125977\n",
      "Testing Loss: 11.56281852722168\n",
      "~~~~~~~~~~~~~~~~~~~~~~~~~~~~~~~~~~~~~~~~\n",
      "Epoch 5000\n",
      "Training Loss: 14.013382911682129\n",
      "Testing Loss: 11.301223754882812\n",
      "~~~~~~~~~~~~~~~~~~~~~~~~~~~~~~~~~~~~~~~~\n",
      "Epoch 6000\n",
      "Training Loss: 11.826163291931152\n",
      "Testing Loss: 11.22632884979248\n",
      "~~~~~~~~~~~~~~~~~~~~~~~~~~~~~~~~~~~~~~~~\n",
      "Epoch 7000\n",
      "Training Loss: 10.686662673950195\n",
      "Testing Loss: 11.21026611328125\n",
      "~~~~~~~~~~~~~~~~~~~~~~~~~~~~~~~~~~~~~~~~\n",
      "Epoch 8000\n",
      "Training Loss: 10.065386772155762\n",
      "Testing Loss: 11.212016105651855\n",
      "~~~~~~~~~~~~~~~~~~~~~~~~~~~~~~~~~~~~~~~~\n",
      "Epoch 9000\n",
      "Training Loss: 9.709004402160645\n",
      "Testing Loss: 11.218555450439453\n",
      "~~~~~~~~~~~~~~~~~~~~~~~~~~~~~~~~~~~~~~~~\n",
      "Epoch 10000\n",
      "Training Loss: 9.494424819946289\n",
      "Testing Loss: 11.225788116455078\n",
      "~~~~~~~~~~~~~~~~~~~~~~~~~~~~~~~~~~~~~~~~\n",
      "Epoch 11000\n",
      "Training Loss: 9.35939884185791\n",
      "Testing Loss: 11.232507705688477\n",
      "~~~~~~~~~~~~~~~~~~~~~~~~~~~~~~~~~~~~~~~~\n",
      "Epoch 12000\n",
      "Training Loss: 9.270913124084473\n",
      "Testing Loss: 11.238482475280762\n",
      "~~~~~~~~~~~~~~~~~~~~~~~~~~~~~~~~~~~~~~~~\n",
      "Epoch 13000\n",
      "Training Loss: 9.210638046264648\n",
      "Testing Loss: 11.243722915649414\n",
      "~~~~~~~~~~~~~~~~~~~~~~~~~~~~~~~~~~~~~~~~\n",
      "Epoch 14000\n",
      "Training Loss: 9.167991638183594\n",
      "Testing Loss: 11.248391151428223\n",
      "~~~~~~~~~~~~~~~~~~~~~~~~~~~~~~~~~~~~~~~~\n",
      "Epoch 15000\n",
      "Training Loss: 9.136665344238281\n",
      "Testing Loss: 11.252579689025879\n",
      "~~~~~~~~~~~~~~~~~~~~~~~~~~~~~~~~~~~~~~~~\n",
      "Epoch 16000\n",
      "Training Loss: 9.112814903259277\n",
      "Testing Loss: 11.256372451782227\n",
      "~~~~~~~~~~~~~~~~~~~~~~~~~~~~~~~~~~~~~~~~\n",
      "Epoch 17000\n",
      "Training Loss: 9.094073295593262\n",
      "Testing Loss: 11.259825706481934\n",
      "~~~~~~~~~~~~~~~~~~~~~~~~~~~~~~~~~~~~~~~~\n",
      "Epoch 18000\n",
      "Training Loss: 9.07897663116455\n",
      "Testing Loss: 11.262981414794922\n",
      "~~~~~~~~~~~~~~~~~~~~~~~~~~~~~~~~~~~~~~~~\n",
      "Epoch 19000\n",
      "Training Loss: 9.066612243652344\n",
      "Testing Loss: 11.265898704528809\n",
      "~~~~~~~~~~~~~~~~~~~~~~~~~~~~~~~~~~~~~~~~\n",
      "Epoch 20000\n",
      "Training Loss: 9.056379318237305\n",
      "Testing Loss: 11.268585205078125\n",
      "~~~~~~~~~~~~~~~~~~~~~~~~~~~~~~~~~~~~~~~~\n"
     ]
    }
   ],
   "source": [
    "with tf.Session(graph=graph) as sess:\n",
    "    sess.run(tf.global_variables_initializer())\n",
    "    training = dict()\n",
    "    testing = dict()\n",
    "    for j in range(20001):\n",
    "        feed_dict = {train_x:train_X, train_y:train_Y}\n",
    "        _, training_loss = sess.run([optimizer, loss], feed_dict=feed_dict)\n",
    "        if j%10 == 0:\n",
    "            training[j] = training_loss\n",
    "            feed_dict = {train_x:test_X, train_y:test_Y}\n",
    "            testing_loss = loss.eval(feed_dict=feed_dict)\n",
    "            testing[j] = testing_loss\n",
    "            if j%1000==0:\n",
    "                print(\"Epoch {0}\\nTraining Loss: {1}\\nTesting Loss: {2}\".format(j,training_loss, testing_loss))\n",
    "                print(\"~\"*40)"
   ]
  },
  {
   "cell_type": "code",
   "execution_count": 11,
   "metadata": {},
   "outputs": [],
   "source": [
    "from matplotlib import pyplot as plt\n",
    "%matplotlib inline"
   ]
  },
  {
   "cell_type": "code",
   "execution_count": 12,
   "metadata": {},
   "outputs": [
    {
     "data": {
      "image/png": "[encoded data removed]",
      "text/plain": [
       "<matplotlib.figure.Figure at 0x7f85ea62ec50>"
      ]
     },
     "metadata": {},
     "output_type": "display_data"
    }
   ],
   "source": [
    "fig = plt.figure(figsize=(12,7))\n",
    "plt.plot(sorted(training), [training[i] for i in sorted(training)])\n",
    "plt.plot(sorted(testing), [testing[i] for i in sorted(testing)])\n",
    "plt.legend([\"Training Loss\", \"Testing Loss\"])\n",
    "plt.show()"
   ]
  },
  {
   "cell_type": "markdown",
   "metadata": {},
   "source": [
    "## Now let's try RNN\n",
    "<a href=\"http://peterroelants.github.io/posts/rnn_implementation_part02/\">\n",
    "    Peter's notes: How to implement a recurrent neural network\n",
    "<img src=\"https://raw.githubusercontent.com/peterroelants/peterroelants.github.io/master/notebooks/RNN_implementation/img/SimpleRNN02_1.png\"></a>"
   ]
  }
 ],
 "metadata": {
  "kernelspec": {
   "display_name": "Python 3",
   "language": "python",
   "name": "python3"
  },
  "language_info": {
   "codemirror_mode": {
    "name": "ipython",
    "version": 3
   },
   "file_extension": ".py",
   "mimetype": "text/x-python",
   "name": "python",
   "nbconvert_exporter": "python",
   "pygments_lexer": "ipython3",
   "version": "3.5.2"
  }
 },
 "nbformat": 4,
 "nbformat_minor": 2
}

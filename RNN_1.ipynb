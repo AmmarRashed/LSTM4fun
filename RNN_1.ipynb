{
 "cells": [
  {
   "cell_type": "code",
   "execution_count": 1,
   "metadata": {},
   "outputs": [],
   "source": [
    "from __future__ import absolute_import, print_function, division"
   ]
  },
  {
   "cell_type": "code",
   "execution_count": 2,
   "metadata": {},
   "outputs": [],
   "source": [
    "import time"
   ]
  },
  {
   "cell_type": "code",
   "execution_count": 3,
   "metadata": {},
   "outputs": [
    {
     "name": "stderr",
     "output_type": "stream",
     "text": [
      "/usr/local/lib/python3.5/dist-packages/h5py/__init__.py:36: FutureWarning: Conversion of the second argument of issubdtype from `float` to `np.floating` is deprecated. In future, it will be treated as `np.float64 == np.dtype(float).type`.\n",
      "  from ._conv import register_converters as _register_converters\n"
     ]
    }
   ],
   "source": [
    "import numpy as np\n",
    "import pandas as pd\n",
    "\n",
    "import tensorflow as tf"
   ]
  },
  {
   "cell_type": "code",
   "execution_count": 4,
   "metadata": {},
   "outputs": [],
   "source": [
    "from matplotlib import pyplot as plt\n",
    "%matplotlib inline"
   ]
  },
  {
   "cell_type": "code",
   "execution_count": 5,
   "metadata": {},
   "outputs": [],
   "source": [
    "def reset_graph(seed=42):\n",
    "    tf.reset_default_graph()\n",
    "    tf.set_random_seed(seed)\n",
    "    np.random.seed(seed)"
   ]
  },
  {
   "cell_type": "code",
   "execution_count": 6,
   "metadata": {},
   "outputs": [],
   "source": [
    "n_inputs = 3\n",
    "n_neurons = 5"
   ]
  },
  {
   "cell_type": "markdown",
   "metadata": {},
   "source": [
    "### Raw RNN"
   ]
  },
  {
   "cell_type": "code",
   "execution_count": 7,
   "metadata": {},
   "outputs": [],
   "source": [
    "graph = tf.Graph()\n",
    "\n",
    "with graph.as_default():\n",
    "    x0 = tf.placeholder(tf.float32, [None, n_inputs])\n",
    "    x1 = tf.placeholder(tf.float32, [None, n_inputs])\n",
    "    \n",
    "    Wx = tf.Variable(tf.random_normal(shape=[n_inputs, n_neurons], dtype=tf.float32))\n",
    "    Wy = tf.Variable(tf.random_normal(shape=[n_neurons, n_neurons], dtype=tf.float32))\n",
    "    b = tf.Variable(tf.zeros(shape=[1, n_neurons], dtype=tf.float32))\n",
    "    \n",
    "    Y0 = tf.tanh(tf.matmul(x0, Wx) + b)\n",
    "    Y1 = tf.tanh(tf.matmul(Y0, Wy) + tf.matmul(x1, Wx) +b)\n",
    "    \n",
    "    init = tf.global_variables_initializer()"
   ]
  },
  {
   "cell_type": "code",
   "execution_count": 8,
   "metadata": {},
   "outputs": [],
   "source": [
    "x0_batch = np.array([[0, 1, 2], [3, 4, 5], [6, 7, 8], [9, 0, 1]]) # t0\n",
    "x1_batch = np.array([[9, 8, 7], [0, 0, 0], [6, 5, 4], [3, 2, 1]]) # t1"
   ]
  },
  {
   "cell_type": "code",
   "execution_count": 9,
   "metadata": {},
   "outputs": [],
   "source": [
    "def run_session(graph):\n",
    "    with tf.Session(graph=graph) as sess, tf.device(\"/cpu\"):\n",
    "        init.run()\n",
    "        feed_dict = {x0:x0_batch, x1:x1_batch}\n",
    "        Y0_val, Y1_val = sess.run([Y0, Y1], feed_dict)\n",
    "    return Y0_val, Y1_val"
   ]
  },
  {
   "cell_type": "code",
   "execution_count": 10,
   "metadata": {},
   "outputs": [
    {
     "data": {
      "text/plain": [
       "((4, 5), (4, 5))"
      ]
     },
     "execution_count": 10,
     "metadata": {},
     "output_type": "execute_result"
    }
   ],
   "source": [
    "Y0_val, Y1_val = run_session(graph)\n",
    "Y0_val.shape, Y1_val.shape"
   ]
  },
  {
   "cell_type": "code",
   "execution_count": 11,
   "metadata": {},
   "outputs": [
    {
     "name": "stdout",
     "output_type": "stream",
     "text": [
      "[[ 0.9573673   0.6773486   0.97555345  0.9502508   0.9909814 ]\n",
      " [ 0.99999994  0.9239658   0.99999994  0.9785577   0.90531147]\n",
      " [ 1.          0.9838924   1.          0.99083394  0.29429385]\n",
      " [ 0.98430026  0.9993857   0.8451181  -0.15980001 -1.        ]]\n"
     ]
    }
   ],
   "source": [
    "print(Y0_val)"
   ]
  },
  {
   "cell_type": "code",
   "execution_count": 12,
   "metadata": {},
   "outputs": [
    {
     "name": "stdout",
     "output_type": "stream",
     "text": [
      "[[ 1.         -0.9990067   1.         -0.7536234  -0.99811506]\n",
      " [-0.9969545  -0.9999865  -0.10779818 -0.36677852  0.99590737]\n",
      " [ 0.9999999  -0.9999139   1.         -0.9376918  -0.9882047 ]\n",
      " [ 0.9999624  -0.9996615   0.9999995  -0.80706525 -0.9880308 ]]\n"
     ]
    }
   ],
   "source": [
    "print(Y1_val)"
   ]
  },
  {
   "cell_type": "markdown",
   "metadata": {},
   "source": [
    "### TensorFlow RNN API: BasicRNNCell"
   ]
  },
  {
   "cell_type": "code",
   "execution_count": 13,
   "metadata": {},
   "outputs": [],
   "source": [
    "graph = tf.Graph()\n",
    "\n",
    "with graph.as_default():\n",
    "    x0 = tf.placeholder(tf.float32, [None, n_inputs])\n",
    "    x1 = tf.placeholder(tf.float32, [None, n_inputs])\n",
    "    \n",
    "    basic_cell = tf.contrib.rnn.BasicRNNCell(num_units=n_neurons)\n",
    "    output_seqs, states = tf.contrib.rnn.static_rnn(basic_cell, [x0, x1], dtype=tf.float32)\n",
    "    \n",
    "    Y0, Y1 = output_seqs\n",
    "    \n",
    "    init = tf.global_variables_initializer()"
   ]
  },
  {
   "cell_type": "code",
   "execution_count": 14,
   "metadata": {},
   "outputs": [
    {
     "data": {
      "text/plain": [
       "((4, 5), (4, 5))"
      ]
     },
     "execution_count": 14,
     "metadata": {},
     "output_type": "execute_result"
    }
   ],
   "source": [
    "Y0_val, Y1_val = run_session(graph)\n",
    "Y0_val.shape, Y1_val.shape"
   ]
  },
  {
   "cell_type": "code",
   "execution_count": 15,
   "metadata": {},
   "outputs": [
    {
     "name": "stdout",
     "output_type": "stream",
     "text": [
      "[[ 0.8974375   0.8661767  -0.4359543  -0.8871651   0.55911165]\n",
      " [ 0.99995315  0.99422175 -0.96411574 -0.99948204  0.02265221]\n",
      " [ 1.          0.9997659  -0.9983019  -0.99999774 -0.5271772 ]\n",
      " [ 0.99948967 -0.99369735 -0.87139356  0.14518003 -0.82000744]]\n"
     ]
    }
   ],
   "source": [
    "print(Y0_val)"
   ]
  },
  {
   "cell_type": "code",
   "execution_count": 16,
   "metadata": {},
   "outputs": [
    {
     "name": "stdout",
     "output_type": "stream",
     "text": [
      "[[ 1.          0.9987629  -0.9993588  -0.9999992  -0.9939048 ]\n",
      " [ 0.04302417  0.02070792  0.334572   -0.24871786 -0.4146878 ]\n",
      " [ 0.99999577  0.9453452  -0.9782288  -0.99933016 -0.984193  ]\n",
      " [ 0.99756044 -0.40606126 -0.0749407  -0.9383426  -0.6825826 ]]\n"
     ]
    }
   ],
   "source": [
    "print(Y1_val)"
   ]
  },
  {
   "cell_type": "markdown",
   "metadata": {},
   "source": [
    "### Unstacking timesteps + stacking output sequence"
   ]
  },
  {
   "cell_type": "code",
   "execution_count": 17,
   "metadata": {},
   "outputs": [],
   "source": [
    "graph = tf.Graph()\n",
    "n_steps = 2\n",
    "with graph.as_default():\n",
    "    X = tf.placeholder(tf.float32, shape=[None, n_steps, n_inputs])\n",
    "    X_seqs = tf.unstack(tf.transpose(X, [1, 0, 2]))\n",
    "    \n",
    "    basic_cell = tf.contrib.rnn.BasicRNNCell(num_units=n_neurons)\n",
    "    output_seqs, states = tf.contrib.rnn.static_rnn(basic_cell, X_seqs, dtype=tf.float32)\n",
    "    \n",
    "    outputs = tf.stack(tf.transpose(output_seqs, perm=[1, 0, 2]))"
   ]
  },
  {
   "cell_type": "code",
   "execution_count": 18,
   "metadata": {},
   "outputs": [],
   "source": [
    "X_batch = np.array([\n",
    "        # t = 0      t = 1 \n",
    "        [[0, 1, 2], [9, 8, 7]], # instance 1\n",
    "        [[3, 4, 5], [0, 0, 0]], # instance 2\n",
    "        [[6, 7, 8], [6, 5, 4]], # instance 3\n",
    "        [[9, 0, 1], [3, 2, 1]], # instance 4\n",
    "    ])"
   ]
  },
  {
   "cell_type": "code",
   "execution_count": 19,
   "metadata": {},
   "outputs": [
    {
     "name": "stdout",
     "output_type": "stream",
     "text": [
      "(4, 2, 3)\n",
      "4 instances, 2 time steps, input size of 3\n"
     ]
    }
   ],
   "source": [
    "print(X_batch.shape)\n",
    "a,b,c = X_batch.shape\n",
    "print(\"{0} instances, {1} time steps, input size of {2}\".format(a,b,c))"
   ]
  },
  {
   "cell_type": "code",
   "execution_count": 20,
   "metadata": {},
   "outputs": [],
   "source": [
    "def run_session(graph, sequence_length=None):\n",
    "    with tf.Session(graph=graph) as sess:\n",
    "        sess.run(tf.global_variables_initializer())\n",
    "        feed_dict = {X:X_batch}\n",
    "        if sequence_length is not None:\n",
    "            feed_dict.update({seq_length:sequence_length})\n",
    "        output_vals, states_vals = sess.run([outputs, states],feed_dict)\n",
    "        \n",
    "    a,b,c = np.array(output_vals).shape\n",
    "    print((a,b,c))\n",
    "    print(\"{0} instances, {1} time steps, input size of {2}\".format(a,b,c))\n",
    "    ds = [[str(timestep) for timestep in instance] for instance in output_vals]\n",
    "    \n",
    "    return pd.DataFrame(ds, columns=[\"t0\",\"t1\"], index=['x%d'%i for i in range(len(output_vals))])"
   ]
  },
  {
   "cell_type": "code",
   "execution_count": 21,
   "metadata": {},
   "outputs": [
    {
     "name": "stdout",
     "output_type": "stream",
     "text": [
      "(4, 2, 5)\n",
      "4 instances, 2 time steps, input size of 5\n"
     ]
    },
    {
     "data": {
      "text/html": [
       "<div>\n",
       "<style scoped>\n",
       "    .dataframe tbody tr th:only-of-type {\n",
       "        vertical-align: middle;\n",
       "    }\n",
       "\n",
       "    .dataframe tbody tr th {\n",
       "        vertical-align: top;\n",
       "    }\n",
       "\n",
       "    .dataframe thead th {\n",
       "        text-align: right;\n",
       "    }\n",
       "</style>\n",
       "<table border=\"1\" class=\"dataframe\">\n",
       "  <thead>\n",
       "    <tr style=\"text-align: right;\">\n",
       "      <th></th>\n",
       "      <th>t0</th>\n",
       "      <th>t1</th>\n",
       "    </tr>\n",
       "  </thead>\n",
       "  <tbody>\n",
       "    <tr>\n",
       "      <th>x0</th>\n",
       "      <td>[-0.04009885 -0.8097802   0.6762576  -0.916290...</td>\n",
       "      <td>[-0.9999956 -0.9999998  0.9411002 -0.9998157  ...</td>\n",
       "    </tr>\n",
       "    <tr>\n",
       "      <th>x1</th>\n",
       "      <td>[-0.9721545  -0.9998215   0.95019644 -0.998169...</td>\n",
       "      <td>[-0.19014953  0.88836277 -0.70430195 -0.463070...</td>\n",
       "    </tr>\n",
       "    <tr>\n",
       "      <th>x2</th>\n",
       "      <td>[-0.99956805 -0.9999998   0.99326915 -0.999961...</td>\n",
       "      <td>[-0.99965686 -0.9997536   0.30035114 -0.992794...</td>\n",
       "    </tr>\n",
       "    <tr>\n",
       "      <th>x3</th>\n",
       "      <td>[-0.9999673  -0.99983466  0.89278525  0.989620...</td>\n",
       "      <td>[-0.9947011  -0.988457   -0.25621665 -0.281493...</td>\n",
       "    </tr>\n",
       "  </tbody>\n",
       "</table>\n",
       "</div>"
      ],
      "text/plain": [
       "                                                   t0  \\\n",
       "x0  [-0.04009885 -0.8097802   0.6762576  -0.916290...   \n",
       "x1  [-0.9721545  -0.9998215   0.95019644 -0.998169...   \n",
       "x2  [-0.99956805 -0.9999998   0.99326915 -0.999961...   \n",
       "x3  [-0.9999673  -0.99983466  0.89278525  0.989620...   \n",
       "\n",
       "                                                   t1  \n",
       "x0  [-0.9999956 -0.9999998  0.9411002 -0.9998157  ...  \n",
       "x1  [-0.19014953  0.88836277 -0.70430195 -0.463070...  \n",
       "x2  [-0.99965686 -0.9997536   0.30035114 -0.992794...  \n",
       "x3  [-0.9947011  -0.988457   -0.25621665 -0.281493...  "
      ]
     },
     "execution_count": 21,
     "metadata": {},
     "output_type": "execute_result"
    }
   ],
   "source": [
    "run_session(graph)"
   ]
  },
  {
   "cell_type": "markdown",
   "metadata": {},
   "source": [
    "### Dynamic unrolling through time"
   ]
  },
  {
   "cell_type": "code",
   "execution_count": 22,
   "metadata": {},
   "outputs": [],
   "source": [
    "graph = tf.Graph()\n",
    "with graph.as_default():\n",
    "    X = tf.placeholder(tf.float32, shape=[None, n_steps, n_inputs])\n",
    "    ## NO NEED TO UNSTACK X :)\n",
    "    \n",
    "    basic_cell = tf.contrib.rnn.BasicRNNCell(num_units=n_neurons)\n",
    "    outputs, states = tf.nn.dynamic_rnn(basic_cell, X, dtype=tf.float32)\n",
    "    \n",
    "    ## NO NEED TO STACK outputs"
   ]
  },
  {
   "cell_type": "code",
   "execution_count": 23,
   "metadata": {},
   "outputs": [
    {
     "name": "stdout",
     "output_type": "stream",
     "text": [
      "(4, 2, 5)\n",
      "4 instances, 2 time steps, input size of 5\n"
     ]
    },
    {
     "data": {
      "text/html": [
       "<div>\n",
       "<style scoped>\n",
       "    .dataframe tbody tr th:only-of-type {\n",
       "        vertical-align: middle;\n",
       "    }\n",
       "\n",
       "    .dataframe tbody tr th {\n",
       "        vertical-align: top;\n",
       "    }\n",
       "\n",
       "    .dataframe thead th {\n",
       "        text-align: right;\n",
       "    }\n",
       "</style>\n",
       "<table border=\"1\" class=\"dataframe\">\n",
       "  <thead>\n",
       "    <tr style=\"text-align: right;\">\n",
       "      <th></th>\n",
       "      <th>t0</th>\n",
       "      <th>t1</th>\n",
       "    </tr>\n",
       "  </thead>\n",
       "  <tbody>\n",
       "    <tr>\n",
       "      <th>x0</th>\n",
       "      <td>[-0.1801341   0.48659524 -0.7052162  -0.736500...</td>\n",
       "      <td>[-0.23058982  0.93670666 -0.9993907  -0.999999...</td>\n",
       "    </tr>\n",
       "    <tr>\n",
       "      <th>x1</th>\n",
       "      <td>[-0.3121507   0.82479316 -0.98856443 -0.999575...</td>\n",
       "      <td>[ 0.12767349  0.6412871  -0.24981414  0.909634...</td>\n",
       "    </tr>\n",
       "    <tr>\n",
       "      <th>x2</th>\n",
       "      <td>[-0.43312082  0.9480008  -0.99961746 -0.999999...</td>\n",
       "      <td>[ 0.00689895  0.9285619  -0.99554133 -0.999386...</td>\n",
       "    </tr>\n",
       "    <tr>\n",
       "      <th>x3</th>\n",
       "      <td>[ 0.90694964  0.9823909  -0.9770128  -0.999936...</td>\n",
       "      <td>[ 0.5756405  0.8181405 -0.6825235 -0.8763856 -...</td>\n",
       "    </tr>\n",
       "  </tbody>\n",
       "</table>\n",
       "</div>"
      ],
      "text/plain": [
       "                                                   t0  \\\n",
       "x0  [-0.1801341   0.48659524 -0.7052162  -0.736500...   \n",
       "x1  [-0.3121507   0.82479316 -0.98856443 -0.999575...   \n",
       "x2  [-0.43312082  0.9480008  -0.99961746 -0.999999...   \n",
       "x3  [ 0.90694964  0.9823909  -0.9770128  -0.999936...   \n",
       "\n",
       "                                                   t1  \n",
       "x0  [-0.23058982  0.93670666 -0.9993907  -0.999999...  \n",
       "x1  [ 0.12767349  0.6412871  -0.24981414  0.909634...  \n",
       "x2  [ 0.00689895  0.9285619  -0.99554133 -0.999386...  \n",
       "x3  [ 0.5756405  0.8181405 -0.6825235 -0.8763856 -...  "
      ]
     },
     "execution_count": 23,
     "metadata": {},
     "output_type": "execute_result"
    }
   ],
   "source": [
    "run_session(graph)"
   ]
  },
  {
   "cell_type": "markdown",
   "metadata": {},
   "source": [
    "### Handling variable length input sequence"
   ]
  },
  {
   "cell_type": "code",
   "execution_count": 24,
   "metadata": {},
   "outputs": [],
   "source": [
    "sequence_length_batch = np.array([2,1,2,2])"
   ]
  },
  {
   "cell_type": "code",
   "execution_count": 25,
   "metadata": {},
   "outputs": [],
   "source": [
    "graph = tf.Graph()\n",
    "with graph.as_default():\n",
    "    X = tf.placeholder(tf.float32, shape=[None, n_steps, n_inputs])\n",
    "    seq_length = tf.placeholder(tf.int32, shape=[None])\n",
    "    \n",
    "    basic_cell = tf.contrib.rnn.BasicRNNCell(num_units=n_neurons)\n",
    "    outputs, states = tf.nn.dynamic_rnn(basic_cell, X, sequence_length=seq_length, dtype=tf.float32)"
   ]
  },
  {
   "cell_type": "code",
   "execution_count": 26,
   "metadata": {},
   "outputs": [
    {
     "name": "stdout",
     "output_type": "stream",
     "text": [
      "(4, 2, 5)\n",
      "4 instances, 2 time steps, input size of 5\n"
     ]
    },
    {
     "data": {
      "text/html": [
       "<div>\n",
       "<style scoped>\n",
       "    .dataframe tbody tr th:only-of-type {\n",
       "        vertical-align: middle;\n",
       "    }\n",
       "\n",
       "    .dataframe tbody tr th {\n",
       "        vertical-align: top;\n",
       "    }\n",
       "\n",
       "    .dataframe thead th {\n",
       "        text-align: right;\n",
       "    }\n",
       "</style>\n",
       "<table border=\"1\" class=\"dataframe\">\n",
       "  <thead>\n",
       "    <tr style=\"text-align: right;\">\n",
       "      <th></th>\n",
       "      <th>t0</th>\n",
       "      <th>t1</th>\n",
       "    </tr>\n",
       "  </thead>\n",
       "  <tbody>\n",
       "    <tr>\n",
       "      <th>x0</th>\n",
       "      <td>[ 0.12449772 -0.35615012  0.49179465 -0.752073...</td>\n",
       "      <td>[-0.35985196 -0.9967861  -0.9190389  -0.981807...</td>\n",
       "    </tr>\n",
       "    <tr>\n",
       "      <th>x1</th>\n",
       "      <td>[-0.01571311 -0.93581253  0.33472428 -0.966152...</td>\n",
       "      <td>[0. 0. 0. 0. 0.]</td>\n",
       "    </tr>\n",
       "    <tr>\n",
       "      <th>x2</th>\n",
       "      <td>[-0.1553087  -0.99537915  0.15655549 -0.995820...</td>\n",
       "      <td>[ 0.10091326 -0.9885842  -0.88180786 -0.786118...</td>\n",
       "    </tr>\n",
       "    <tr>\n",
       "      <th>x3</th>\n",
       "      <td>[-0.76619244  0.31452423 -0.9994086   0.073607...</td>\n",
       "      <td>[ 0.10694895 -0.9620907  -0.30339572  0.662319...</td>\n",
       "    </tr>\n",
       "  </tbody>\n",
       "</table>\n",
       "</div>"
      ],
      "text/plain": [
       "                                                   t0  \\\n",
       "x0  [ 0.12449772 -0.35615012  0.49179465 -0.752073...   \n",
       "x1  [-0.01571311 -0.93581253  0.33472428 -0.966152...   \n",
       "x2  [-0.1553087  -0.99537915  0.15655549 -0.995820...   \n",
       "x3  [-0.76619244  0.31452423 -0.9994086   0.073607...   \n",
       "\n",
       "                                                   t1  \n",
       "x0  [-0.35985196 -0.9967861  -0.9190389  -0.981807...  \n",
       "x1                                   [0. 0. 0. 0. 0.]  \n",
       "x2  [ 0.10091326 -0.9885842  -0.88180786 -0.786118...  \n",
       "x3  [ 0.10694895 -0.9620907  -0.30339572  0.662319...  "
      ]
     },
     "execution_count": 26,
     "metadata": {},
     "output_type": "execute_result"
    }
   ],
   "source": [
    "run_session(graph, sequence_length_batch)"
   ]
  },
  {
   "cell_type": "markdown",
   "metadata": {},
   "source": [
    "### Predicting time series data\n",
    "<img src=\"https://images-na.ssl-images-amazon.com/images/I/51%2B1JJxFM3L._UX385_.jpg\">"
   ]
  },
  {
   "cell_type": "code",
   "execution_count": 27,
   "metadata": {},
   "outputs": [],
   "source": [
    "n_steps = 20\n",
    "n_inputs = 1\n",
    "n_outputs = 1\n",
    "n_neurons = 100"
   ]
  },
  {
   "cell_type": "code",
   "execution_count": 28,
   "metadata": {},
   "outputs": [],
   "source": [
    "batch_size=500\n",
    "t_min = 0\n",
    "t_max = 30\n",
    "resolution = 0.1"
   ]
  },
  {
   "cell_type": "code",
   "execution_count": 29,
   "metadata": {},
   "outputs": [],
   "source": [
    "time_series= lambda t: t*np.sin(t)/3 + 2*np.sin(5*t)\n",
    "def generate_batch(batch_size=500, t_min = 0, t_max = 30, resolution = 0.1, n_steps=20):\n",
    "    t0 = np.random.rand(batch_size, 1) * (t_max - t_min - n_steps * resolution)\n",
    "    Ts = t0 + np.arange(0., n_steps+1) * resolution\n",
    "    ys = time_series(Ts)\n",
    "    return ys[:,:-1].reshape(-1,n_steps, n_inputs), ys[:,1:].reshape(-1,n_steps, n_outputs)"
   ]
  },
  {
   "cell_type": "code",
   "execution_count": 30,
   "metadata": {},
   "outputs": [
    {
     "data": {
      "image/png": "[encoded data removed]",
      "text/plain": [
       "<matplotlib.figure.Figure at 0x7f56114710f0>"
      ]
     },
     "metadata": {},
     "output_type": "display_data"
    }
   ],
   "source": [
    "t = np.linspace(t_min, t_max, int((t_max - t_min) / resolution))\n",
    "t_instance = np.linspace(12.2, 12.2 + resolution * (n_steps + 1), n_steps + 1)\n",
    "\n",
    "plt.figure(figsize=(11,4))\n",
    "plt.subplot(121)\n",
    "plt.title(\"A time series (generated)\", fontsize=14)\n",
    "plt.plot(t, time_series(t), label=r\"$t . \\sin(t) / 3 + 2 . \\sin(5t)$\")\n",
    "plt.plot(t_instance[:-1], time_series(t_instance[:-1]), \"b-\", linewidth=3, label=\"A training instance\")\n",
    "plt.legend(loc=\"lower left\", fontsize=14)\n",
    "plt.axis([0, 30, -17, 13])\n",
    "plt.xlabel(\"Time\")\n",
    "plt.ylabel(\"Value\")\n",
    "\n",
    "plt.subplot(122)\n",
    "plt.title(\"A training instance\", fontsize=14)\n",
    "plt.plot(t_instance[:-1], time_series(t_instance[:-1]), \"bo\", markersize=10, label=\"instance\")\n",
    "plt.plot(t_instance[1:], time_series(t_instance[1:]), \"g*\", markersize=10, label=\"target\")\n",
    "plt.legend(loc=\"upper left\")\n",
    "plt.xlabel(\"Time\")\n",
    "\n",
    "\n",
    "plt.show()"
   ]
  },
  {
   "cell_type": "markdown",
   "metadata": {},
   "source": [
    "### Using `OutputProjectionWrapper`"
   ]
  },
  {
   "cell_type": "code",
   "execution_count": 31,
   "metadata": {},
   "outputs": [],
   "source": [
    "graph = tf.Graph()\n",
    "\n",
    "with graph.as_default():\n",
    "    X = tf.placeholder(tf.float32, [None, n_steps, n_inputs])\n",
    "    y = tf.placeholder(tf.float32, [None, n_steps, n_outputs])\n",
    "    \n",
    "    cell = tf.contrib.rnn.OutputProjectionWrapper(\n",
    "        tf.contrib.rnn.BasicRNNCell(n_neurons, activation=tf.nn.relu),n_outputs)\n",
    "    outputs, states = tf.nn.dynamic_rnn(cell, X, dtype=tf.float32)\n",
    "    \n",
    "    learning_rate = 0.001\n",
    "    \n",
    "    loss = tf.reduce_mean(tf.losses.mean_squared_error(outputs, y))\n",
    "    optimizer = tf.train.AdamOptimizer(learning_rate).minimize(loss)\n",
    "    \n",
    "    _saver = tf.train.Saver()\n",
    "    \n",
    "    init = tf.global_variables_initializer()"
   ]
  },
  {
   "cell_type": "code",
   "execution_count": 32,
   "metadata": {},
   "outputs": [],
   "source": [
    "def run_session(graph, save_name='./sess', n_steps=20):\n",
    "    \n",
    "    t = np.linspace(t_min, t_max, int((t_max - t_min) / resolution))\n",
    "    t_instance = np.linspace(12.2, 12.2 + resolution * (n_steps + 1), n_steps + 1)\n",
    "    \n",
    "    start = time.time()\n",
    "    with tf.Session(graph=graph) as sess, tf.device(\"/gpu\"):\n",
    "        init.run()\n",
    "        for i in range(1001):\n",
    "            batch_x,batch_y = generate_batch(1000, n_steps=n_steps)\n",
    "            _, loss_value = sess.run([optimizer, loss], feed_dict={X:batch_x, y:batch_y})\n",
    "            if i%100 == 0:\n",
    "                print(\"{0}\\tMSE: {1}\".format(i, loss_value))\n",
    "        y_pred, y_states = sess.run(\n",
    "            [outputs, states], feed_dict={X:time_series(t_instance[:-1].reshape(-1, n_steps, n_inputs))})\n",
    "        _saver.save(sess, save_name)\n",
    "    print(\"Excution time: \",time.time()-start)\n",
    "    plt.figure(figsize=(12,7))\n",
    "    plt.title(\"A training instance\", fontsize=14)\n",
    "    plt.plot(t_instance[:-1], time_series(t_instance[:-1]), \"bo\", markersize=10, label=\"target\")\n",
    "    plt.plot(t_instance[1:], time_series(t_instance[1:]), \"g*\", markersize=10, label=\"target\")\n",
    "    plt.plot(t_instance[1:], y_pred.reshape(-1), \"r.\", markersize=10, label=\"prediction\")\n",
    "    plt.legend(loc=\"upper left\")\n",
    "    plt.xlabel(\"Time\")\n",
    "    return _saver"
   ]
  },
  {
   "cell_type": "code",
   "execution_count": 33,
   "metadata": {
    "scrolled": false
   },
   "outputs": [
    {
     "name": "stdout",
     "output_type": "stream",
     "text": [
      "0\tMSE: 18.500988006591797\n",
      "100\tMSE: 0.5795389413833618\n",
      "200\tMSE: 0.27513453364372253\n",
      "300\tMSE: 0.12749402225017548\n",
      "400\tMSE: 0.0725756287574768\n",
      "500\tMSE: 0.05657791718840599\n",
      "600\tMSE: 0.05189034342765808\n",
      "700\tMSE: 0.05271995812654495\n",
      "800\tMSE: 0.047196388244628906\n",
      "900\tMSE: 0.047588150948286057\n",
      "1000\tMSE: 0.04786102473735809\n",
      "Excution time:  13.559691667556763\n"
     ]
    },
    {
     "data": {
      "text/plain": [
       "<tensorflow.python.training.saver.Saver at 0x7f560e8b7358>"
      ]
     },
     "execution_count": 33,
     "metadata": {},
     "output_type": "execute_result"
    },
    {
     "data": {
      "image/png": "[encoded data removed]",
      "text/plain": [
       "<matplotlib.figure.Figure at 0x7f5610e59cf8>"
      ]
     },
     "metadata": {},
     "output_type": "display_data"
    }
   ],
   "source": [
    "run_session(graph)"
   ]
  },
  {
   "cell_type": "markdown",
   "metadata": {},
   "source": [
    "### Using un/stacking input/output without  `OutputProjectionWrapper`"
   ]
  },
  {
   "cell_type": "code",
   "execution_count": 34,
   "metadata": {},
   "outputs": [],
   "source": [
    "n_steps = 50"
   ]
  },
  {
   "cell_type": "code",
   "execution_count": 35,
   "metadata": {},
   "outputs": [],
   "source": [
    "graph = tf.Graph()\n",
    "\n",
    "with graph.as_default():\n",
    "    X = tf.placeholder(tf.float32, [None, n_steps, n_inputs])\n",
    "    y = tf.placeholder(tf.float32, [None, n_steps, n_outputs])\n",
    "    \n",
    "    cell = tf.contrib.rnn.BasicRNNCell(n_neurons, activation=tf.nn.relu)\n",
    "\n",
    "    outputs, states = tf.nn.dynamic_rnn(cell, X, dtype=tf.float32)\n",
    "    \n",
    "    stacked_rnn_outputs = tf.reshape(outputs, (-1, n_neurons))  # output vectors\n",
    "    stacked_outputs = tf.contrib.layers.fully_connected(\n",
    "        stacked_rnn_outputs, n_outputs, activation_fn=None) # output scalars\n",
    "    outputs = tf.reshape(stacked_outputs, (-1, n_steps, n_outputs))\n",
    "    \n",
    "    learning_rate = 0.001\n",
    "    \n",
    "    loss = tf.reduce_mean(tf.losses.mean_squared_error(outputs, y))\n",
    "    optimizer = tf.train.AdamOptimizer(learning_rate).minimize(loss)\n",
    "    \n",
    "    _saver = tf.train.Saver()\n",
    "    \n",
    "    init = tf.global_variables_initializer()"
   ]
  },
  {
   "cell_type": "code",
   "execution_count": 36,
   "metadata": {
    "scrolled": false
   },
   "outputs": [
    {
     "name": "stdout",
     "output_type": "stream",
     "text": [
      "0\tMSE: 14.541037559509277\n",
      "100\tMSE: 0.23668180406093597\n",
      "200\tMSE: 0.13121050596237183\n",
      "300\tMSE: 0.06808270514011383\n",
      "400\tMSE: 0.041545186191797256\n",
      "500\tMSE: 0.028110405430197716\n",
      "600\tMSE: 0.02284049801528454\n",
      "700\tMSE: 0.02112269029021263\n",
      "800\tMSE: 0.020565293729305267\n",
      "900\tMSE: 0.019526777788996696\n",
      "1000\tMSE: 0.018675513565540314\n",
      "Excution time:  24.4758939743042\n"
     ]
    },
    {
     "data": {
      "image/png": "[encoded data removed]",
      "text/plain": [
       "<matplotlib.figure.Figure at 0x7f560e6eb320>"
      ]
     },
     "metadata": {},
     "output_type": "display_data"
    }
   ],
   "source": [
    "saver = run_session(graph, n_steps=n_steps)"
   ]
  },
  {
   "cell_type": "markdown",
   "metadata": {},
   "source": [
    "## Generative RNNs"
   ]
  },
  {
   "cell_type": "code",
   "execution_count": 40,
   "metadata": {
    "scrolled": false
   },
   "outputs": [
    {
     "name": "stdout",
     "output_type": "stream",
     "text": [
      "INFO:tensorflow:Restoring parameters from ./sess\n"
     ]
    }
   ],
   "source": [
    "with tf.Session(graph=graph) as sess:\n",
    "    saver.restore(sess, './sess')\n",
    "    batch_x,y_batch = generate_batch(1, n_steps=n_steps)\n",
    "    sequence = list(batch_x.reshape(-1))\n",
    "    for i in range(300):\n",
    "        x_batch = np.array(sequence[-n_steps:])\n",
    "        y_pred = sess.run(outputs, feed_dict={X: x_batch.reshape(1, n_steps, n_inputs)})\n",
    "        # Here is the generative part :)\n",
    "        assert y_pred.reshape(-1)[-1]==y_pred[0,-1,0]\n",
    "        sequence.append(y_pred[0,-1,0])"
   ]
  },
  {
   "cell_type": "code",
   "execution_count": 41,
   "metadata": {},
   "outputs": [
    {
     "data": {
      "image/png": "[encoded data removed]",
      "text/plain": [
       "<matplotlib.figure.Figure at 0x7f560e28e6a0>"
      ]
     },
     "metadata": {},
     "output_type": "display_data"
    }
   ],
   "source": [
    "plt.figure(figsize=(12,7))\n",
    "plt.plot(np.arange((len(sequence))), sequence)\n",
    "plt.plot(sequence[:n_steps],linewidth=3)\n",
    "plt.xlabel(\"Time\")\n",
    "plt.ylabel(\"Value\")\n",
    "plt.show()"
   ]
  },
  {
   "cell_type": "code",
   "execution_count": null,
   "metadata": {},
   "outputs": [],
   "source": []
  }
 ],
 "metadata": {
  "kernelspec": {
   "display_name": "Python 3",
   "language": "python",
   "name": "python3"
  },
  "language_info": {
   "codemirror_mode": {
    "name": "ipython",
    "version": 3
   },
   "file_extension": ".py",
   "mimetype": "text/x-python",
   "name": "python",
   "nbconvert_exporter": "python",
   "pygments_lexer": "ipython3",
   "version": "3.5.2"
  }
 },
 "nbformat": 4,
 "nbformat_minor": 2
}
